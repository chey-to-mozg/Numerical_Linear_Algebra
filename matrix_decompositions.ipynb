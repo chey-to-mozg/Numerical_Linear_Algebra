{
 "cells": [
  {
   "cell_type": "markdown",
   "metadata": {
    "id": "t9v1vX4-OGIT"
   },
   "source": [
    "# Problem set 2 (35 + 55 + 15 + 28 = 133 pts)"
   ]
  },
  {
   "cell_type": "code",
   "execution_count": 1,
   "metadata": {
    "pycharm": {
     "name": "#%%\n"
    }
   },
   "outputs": [],
   "source": [
    "from scipy.sparse import diags # can be used with broadcasting of scalars if desired dimensions are large\n",
    "import numpy as np\n",
    "import scipy.linalg as sl\n",
    "import scipy.sparse as sparse\n",
    "import scipy\n",
    "from scipy.sparse.linalg import LinearOperator\n",
    "import matplotlib.pyplot as plt\n",
    "import time"
   ]
  },
  {
   "cell_type": "markdown",
   "metadata": {
    "id": "FOMNJ4TcOGIV"
   },
   "source": [
    "## Problem 1 (LU decomposition) 35 pts\n"
   ]
  },
  {
   "cell_type": "markdown",
   "metadata": {
    "id": "pYHDl6ppOGIV"
   },
   "source": [
    "### 1. LU for band matrices (7 pts)\n",
    "\n",
    "The complexity to find an LU decomposition of a dense $n\\times n$ matrix is $\\mathcal{O}(n^3)$.\n",
    "Significant reduction in complexity can be achieved if the matrix has a certain structure, e.g. it is sparse. \n",
    "In the following task we consider an important example of $LU$ for a special type of sparse matrices –– band matrices with the bandwidth $m$ equal to 3 or 5 which called tridiagonal and pentadiagonal respectively.\n",
    "\n",
    "- (5 pts) Write a function ```band_lu(diag_broadcast, n)``` which computes LU decomposition for tridiagonal or pentadiagonal matrix with given diagonal values. \n",
    "For example, input parametres ```(diag_broadcast = [4,-2,1], n = 4)``` mean that we need to find LU decomposition for the triangular matrix of the form:\n",
    "\n",
    "$$A = \\begin{pmatrix}\n",
    "-2 & 1 & 0 & 0\\\\\n",
    "4 & -2 & 1 & 0 \\\\\n",
    "0 & 4 & -2 & 1 \\\\\n",
    "0 & 0 & 4 & -2 \\\\\n",
    "\\end{pmatrix}.$$\n",
    "\n",
    "As an output it is considered to make ```L``` and ```U``` - 2D arrays representing diagonals in factors $L$ (```L[0]``` keeps first lower diagonal, ```L[1]``` keeps second lower, ...), and $U$ (```U[:,0]``` keeps main diagonal, ```U[:,1]``` keeps first upper, ...).\n",
    "- (2 pts) Compare execution time of the band LU decomposition using standard function from ```scipy```, i.e. which takes the whole matrix and does not know about its special structure, and band decomposition of yours implementation. Comment on the results."
   ]
  },
  {
   "cell_type": "code",
   "execution_count": 2,
   "metadata": {
    "pycharm": {
     "name": "#%%\n"
    }
   },
   "outputs": [],
   "source": [
    "\n",
    "\n",
    "# INPUT : diag_broadcast - list of diagonals value to broadcast,length equal to 3 or 5; n - integer, band matrix shape.\n",
    "# OUTPUT : L - 2D np.ndarray, L.shape[0] depends on bandwidth, L.shape[1] = n-1, do not store main diagonal, where all ones;                  add zeros to the right side of rows to handle with changing length of diagonals.\n",
    "#          U - 2D np.ndarray, U.shape[0] = n, U.shape[1] depends on bandwidth;\n",
    "#              add zeros to the bottom of columns to handle with changing length of diagonals.\n",
    "def band_lu(diag_broadcast, n):\n",
    "    # enter your code here\n",
    "    shift = len(diag_broadcast) // 2\n",
    "    m = len(diag_broadcast)\n",
    "\n",
    "    L = np.zeros((shift,n-1))\n",
    "    U = np.zeros((n,shift+1))\n",
    "\n",
    "    U[0] = diag_broadcast[shift : ]\n",
    "    U[: n - shift , -1] = diag_broadcast[-1]\n",
    "\n",
    "    a = diag_broadcast[shift - 1] / U[0, 0]\n",
    "    L[0, 0] = a\n",
    "    for u in range(shift):\n",
    "        U[1, u] = diag_broadcast[u+shift] - U[0, u+1]*a\n",
    "\n",
    "\n",
    "    for k in range(1, n - 1):#Eliminate one row\n",
    "            if shift == 1:\n",
    "                a = diag_broadcast[0] / U[k, 0]# a = diag_broadcast[l] / U[k, 0]\n",
    "                L[0, k] = a\n",
    "                U[k + 1, 0] = diag_broadcast[1] - U[k, 1]*a\n",
    "                    \n",
    "            else:\n",
    "                a = diag_broadcast[0] / U[k - 1, 0]\n",
    "                L[1, k - 1] = a\n",
    "                b = diag_broadcast[1] - U[k - 1, 1]*a\n",
    "                b = b / U[k, 0]\n",
    "                L[0, k] = b\n",
    "\n",
    "                U[k + 1, 0] = diag_broadcast[shift] - U[k-1, 2]*a\n",
    "                U[k + 1, 1] = diag_broadcast[shift + 1]\n",
    "                if k == (n-2):\n",
    "                    U[k + 1, 1] = 0\n",
    "                for u in range(shift):\n",
    "                    U[k + 1, u] = U[k + 1, u] - U[k, u+1]*b\n",
    "                ### so hard to automate...\n",
    "  \n",
    "\n",
    "    return L, U"
   ]
  },
  {
   "cell_type": "code",
   "execution_count": 3,
   "metadata": {
    "pycharm": {
     "name": "#%%\n"
    }
   },
   "outputs": [],
   "source": [
    "# Your solution is here"
   ]
  },
  {
   "cell_type": "code",
   "execution_count": 4,
   "metadata": {
    "pycharm": {
     "name": "#%%\n"
    }
   },
   "outputs": [
    {
     "name": "stdout",
     "output_type": "stream",
     "text": [
      "[[1.         0.         0.         0.         0.        ]\n",
      " [0.42857143 1.         0.         0.         0.        ]\n",
      " [0.85714286 0.67241379 1.         0.         0.        ]\n",
      " [0.         0.72413793 0.95140665 1.         0.        ]\n",
      " [0.         0.         0.89002558 0.84735286 1.        ]]\n",
      "[[ 7.         -3.          4.          0.          0.        ]\n",
      " [ 0.          8.28571429 -4.71428571  4.          0.        ]\n",
      " [ 0.          0.          6.74137931 -5.68965517  4.        ]\n",
      " [ 0.          0.          0.          9.51662404 -6.8056266 ]\n",
      " [ 0.          0.          0.          0.          9.20666488]]\n",
      "[[0.42857143 0.67241379 0.95140665 0.84735286]\n",
      " [0.85714286 0.72413793 0.89002558 0.        ]]\n",
      "[[ 7.         -3.          4.        ]\n",
      " [ 8.28571429 -4.71428571  4.        ]\n",
      " [ 6.74137931 -5.68965517  4.        ]\n",
      " [ 9.51662404 -6.8056266   0.        ]\n",
      " [ 9.20666488  0.          0.        ]]\n"
     ]
    }
   ],
   "source": [
    "n = 5\n",
    "\n",
    "diag_broadcast = [6, 3, 7, -3, 4]\n",
    "\n",
    "shift = len(diag_broadcast) // 2\n",
    "\n",
    "A = np.zeros((n, n))\n",
    "for k in range(-shift, shift + 1):\n",
    "    A += np.diag([diag_broadcast[k + shift]] * (n - np.abs(k)), k)\n",
    "\n",
    "_, L, U = sl.lu(A)\n",
    "print(L)\n",
    "print(U)\n",
    "\n",
    "\n",
    "L, U = band_lu(diag_broadcast = diag_broadcast, n = n)\n",
    "print(L)\n",
    "print(U)\n",
    "\n"
   ]
  },
  {
   "cell_type": "markdown",
   "metadata": {
    "pycharm": {
     "name": "#%% md\n"
    }
   },
   "source": [
    "#### Compare execution time of the band LU decomposition using standard function from scipy\n"
   ]
  },
  {
   "cell_type": "code",
   "execution_count": 5,
   "metadata": {
    "pycharm": {
     "name": "#%%\n"
    }
   },
   "outputs": [
    {
     "name": "stdout",
     "output_type": "stream",
     "text": [
      "9000 complite\r"
     ]
    },
    {
     "data": {
      "image/png": "[encoded data removed]",
      "text/plain": [
       "<Figure size 648x648 with 1 Axes>"
      ]
     },
     "metadata": {
      "needs_background": "light"
     },
     "output_type": "display_data"
    }
   ],
   "source": [
    "diag_broadcast = [6, 3, 7, -3, 4]\n",
    "\n",
    "band_time = []\n",
    "sl_time = []\n",
    "\n",
    "for n in range(1000, 10000, 1000):\n",
    "    cur_time = time.time()\n",
    "    band_lu(diag_broadcast = diag_broadcast, n = n)\n",
    "    band_time.append(time.time() - cur_time)\n",
    "\n",
    "    shift = len(diag_broadcast) // 2\n",
    "\n",
    "    A = np.zeros((n, n))\n",
    "    for k in range(-shift, shift + 1):\n",
    "        A += np.diag([diag_broadcast[k + shift]] * (n - np.abs(k)), k)\n",
    "\n",
    "    cur_time = time.time()\n",
    "    sl.lu(A)\n",
    "    sl_time.append(time.time() - cur_time)\n",
    "\n",
    "    print(f'{n} complite',end='\\r')\n",
    "\n",
    "plt.figure(figsize=(9, 9))\n",
    "plt.plot(np.arange(1000, 10000, 1000), band_time, label='band LU', linewidth=4)\n",
    "plt.plot(np.arange(1000, 10000, 1000), sl_time, label='scipy LU', linewidth=4)\n",
    "plt.xlabel('dimension of Matrix', fontsize=18)\n",
    "plt.ylabel('time', fontsize=18)\n",
    "plt.xticks(fontsize=18)\n",
    "plt.yticks(fontsize=18)\n",
    "plt.grid()\n",
    "plt.legend(fontsize=18)\n",
    "plt.title('comparasion of methods')\n",
    "plt.show()\n",
    "\n"
   ]
  },
  {
   "cell_type": "markdown",
   "metadata": {
    "pycharm": {
     "name": "#%% md\n"
    }
   },
   "source": [
    "In general scipy uses the algorithm with complexity $ O (n ^ 3) $. In the case of band matrices, we used an algorithm with complexity $ O (n m) $"
   ]
  },
  {
   "cell_type": "markdown",
   "metadata": {
    "id": "_iM6NwHQOGId"
   },
   "source": [
    "### 2. Stability of LU (8 pts)\n",
    "\n",
    "Let\n",
    "$A = \\begin{pmatrix}\n",
    "\\varepsilon & 1 & 0\\\\\n",
    "1 & 1 & 1 \\\\\n",
    "0 & 1 & 1\n",
    "\\end{pmatrix}.$ \n",
    "* (5 pts) Find analytically LU decomposition with and without pivoting for the matrix $A$.\n",
    "* (3 pts) Explain, why can the LU decomposition fail to approximate factors $L$ and $U$ for $|\\varepsilon|\\ll 1$ in computer arithmetic?"
   ]
  },
  {
   "cell_type": "code",
   "execution_count": 6,
   "metadata": {
    "id": "CmkB9hxwOGId"
   },
   "outputs": [],
   "source": [
    "# Your solution is here"
   ]
  },
  {
   "cell_type": "markdown",
   "metadata": {
    "pycharm": {
     "name": "#%% md\n"
    }
   },
   "source": [
    "#### Without pivoting\n",
    "\n",
    "Using Gausioan elimination:\n",
    "\n",
    "$A = \\begin{pmatrix}\n",
    "\\varepsilon & 1 & 0\\\\\n",
    "1 & 1 & 1 \\\\\n",
    "0 & 1 & 1\n",
    "\\end{pmatrix}\n",
    "=\n",
    "\\begin{pmatrix}\n",
    "1 & 0 & 0\\\\\n",
    "0 & 1 & 0 \\\\\n",
    "0 & 0 & 1\n",
    "\\end{pmatrix}\n",
    "\\begin{pmatrix}\n",
    "\\varepsilon & 1 & 0\\\\\n",
    "1 & 1 & 1 \\\\\n",
    "0 & 1 & 1\n",
    "\\end{pmatrix}\n",
    "=\n",
    "\\begin{pmatrix}\n",
    "1 & 0 & 0\\\\\n",
    "\\frac{1}{\\varepsilon} & 1 & 0 \\\\\n",
    "0 & 0 & 1\n",
    "\\end{pmatrix}\n",
    "\\begin{pmatrix}\n",
    "\\varepsilon & 1 & 0\\\\\n",
    "0 & \\frac{\\varepsilon - 1}{\\varepsilon} & 1 \\\\\n",
    "0 & 1 & 1\n",
    "\\end{pmatrix}\n",
    "=\n",
    "\\begin{pmatrix}\n",
    "1 & 0 & 0\\\\\n",
    "\\frac{1}{\\varepsilon} & 1 & 0 \\\\\n",
    "0 & \\frac{\\varepsilon}{\\varepsilon - 1} & 1\n",
    "\\end{pmatrix}\n",
    "\\begin{pmatrix}\n",
    "\\varepsilon & 1 & 0\\\\\n",
    "0 & \\frac{\\varepsilon - 1}{\\varepsilon} & 1 \\\\\n",
    "0 & 0 & \\frac{1}{1 - \\varepsilon}\n",
    "\\end{pmatrix}\n",
    "= LU$\n"
   ]
  },
  {
   "cell_type": "markdown",
   "metadata": {
    "pycharm": {
     "name": "#%% md\n"
    }
   },
   "source": [
    "#### With pivoting\n",
    "\n",
    "Main goal: exclude $\\varepsilon$ as a pivot\n",
    "\n",
    "Using Gausioan elimination:\n",
    "\n",
    "$A = \\begin{pmatrix}\n",
    "\\varepsilon & 1 & 0\\\\\n",
    "1 & 1 & 1 \\\\\n",
    "0 & 1 & 1\n",
    "\\end{pmatrix}\n",
    "=\n",
    "P_{12}\n",
    "\\begin{pmatrix}\n",
    "1 & 1 & 1 \\\\\n",
    "\\varepsilon & 1 & 0\\\\\n",
    "0 & 1 & 1\n",
    "\\end{pmatrix}\n",
    "=\n",
    "P_{12}\n",
    "\\begin{pmatrix}\n",
    "1 & 0 & 0\\\\\n",
    "0 & 1 & 0 \\\\\n",
    "0 & 0 & 1\n",
    "\\end{pmatrix}\n",
    "\\begin{pmatrix}\n",
    "1 & 1 & 1 \\\\\n",
    "\\varepsilon & 1 & 0\\\\\n",
    "0 & 1 & 1\n",
    "\\end{pmatrix}\n",
    "=\n",
    "P_{12}\n",
    "\\begin{pmatrix}\n",
    "1 & 0 & 0\\\\\n",
    "\\varepsilon & 1 & 0 \\\\\n",
    "0 & 0 & 1\n",
    "\\end{pmatrix}\n",
    "\\begin{pmatrix}\n",
    "1 & 1 & 1 \\\\\n",
    "0 & 1 - \\varepsilon & -\\varepsilon\\\\\n",
    "0 & 1 & 1\n",
    "\\end{pmatrix}\n",
    "=\n",
    "P_{12}\n",
    "\\begin{pmatrix}\n",
    "1 & 0 & 0\\\\\n",
    "\\varepsilon & 1 & 0 \\\\\n",
    "0 & 0 & 1\n",
    "\\end{pmatrix}\n",
    "P_{23}\n",
    "\\begin{pmatrix}\n",
    "1 & 1 & 1 \\\\\n",
    "0 & 1 & 1 \\\\\n",
    "0 & 1 - \\varepsilon & -\\varepsilon\n",
    "\\end{pmatrix}\n",
    "=\n",
    "P_{12}\n",
    "P_{23}\n",
    "\\begin{pmatrix}\n",
    "1 & 0 & 0\\\\\n",
    "0 & 1 & 0\\\\\n",
    "\\varepsilon & 1 - \\varepsilon & 1\n",
    "\\end{pmatrix}\n",
    "\\begin{pmatrix}\n",
    "1 & 1 & 1 \\\\\n",
    "0 & 1 & 1 \\\\\n",
    "0 & 0 & -1\n",
    "\\end{pmatrix}\n",
    "$\n",
    "\n",
    "$\n",
    "P_{12}P_{23} =\n",
    "\\begin{pmatrix}\n",
    "0 & 1 & 0 \\\\\n",
    "1 & 0 & 0 \\\\\n",
    "0 & 0 & 1\n",
    "\\end{pmatrix}\n",
    "\\begin{pmatrix}\n",
    "1 & 0 & 0 \\\\\n",
    "0 & 0 & 1 \\\\\n",
    "0 & 1 & 0\n",
    "\\end{pmatrix}\n",
    "=\n",
    "\\begin{pmatrix}\n",
    "0 & 0 & 1 \\\\\n",
    "1 & 0 & 0 \\\\\n",
    "0 & 1 & 0\n",
    "\\end{pmatrix}\n",
    "$\n",
    "\n",
    "$\n",
    "A = PLU =\n",
    "\\begin{pmatrix}\n",
    "0 & 0 & 1 \\\\\n",
    "1 & 0 & 0 \\\\\n",
    "0 & 1 & 0\n",
    "\\end{pmatrix}\n",
    "\\begin{pmatrix}\n",
    "1 & 0 & 0\\\\\n",
    "0 & 1 & 0\\\\\n",
    "\\varepsilon & 1 - \\varepsilon & 1\n",
    "\\end{pmatrix}\n",
    "\\begin{pmatrix}\n",
    "1 & 1 & 1 \\\\\n",
    "0 & 1 & 1 \\\\\n",
    "0 & 0 & -1\n",
    "\\end{pmatrix}\n",
    "$"
   ]
  },
  {
   "cell_type": "markdown",
   "metadata": {
    "pycharm": {
     "name": "#%% md\n"
    }
   },
   "source": [
    "#### Explain, why can the LU decomposition fail to approximate factors $L$ and $U$ for $|\\varepsilon|\\ll 1$ in computer arithmetic?\n",
    "\n",
    "Since we have 2 values with $\\frac{1}{\\varepsilon}$ and if the ${\\varepsilon}$ is close to zero, then these values are undefined(very big)."
   ]
  },
  {
   "cell_type": "markdown",
   "metadata": {
    "id": "EQwdRJSIOGIg"
   },
   "source": [
    "### 3. Block LU (10 pts) \n",
    "\n",
    "Let $A = \\begin{bmatrix} A_{11} & A_{12} \\\\ A_{21} & A_{22} \\end{bmatrix}$ be a block matrix. The goal is to solve the linear system\n",
    "\n",
    "$$\n",
    "     \\begin{bmatrix} A_{11} & A_{12} \\\\ A_{21} & A_{22} \\end{bmatrix} \\begin{bmatrix} u_1 \\\\ u_2 \\end{bmatrix} = \\begin{bmatrix} f_1 \\\\ f_2 \\end{bmatrix}.\n",
    "$$\n",
    "\n",
    "* (2 pts) Using block elimination find matrix $S$ and right-hand side $\\hat{f_2}$ so that $u_2$ can be found from $S u_2 = \\hat{f_2}$. Note that the matrix $S$ is called <font color='red'> Schur complement </font> of the block $A_{11}$.\n",
    "* (4 pts) Using Schur complement properties prove that \n",
    "\n",
    "$$\\det(X+AB) = \\det(X)\\det(I+BX^{-1}A), $$\n",
    "\n",
    "\n",
    "where $X$ - nonsingular square matrix.\n",
    "* (4 pts) Let matrix $F \\in \\mathbb{R}^{m \\times n}$ and $G \\in \\mathbb{R}^{n \\times m}$. Prove that \n",
    "\n",
    "$$\\det(I_m - FG) = \\det(I_n - GF).$$"
   ]
  },
  {
   "cell_type": "code",
   "execution_count": 7,
   "metadata": {
    "id": "32HpfOPMOGIg"
   },
   "outputs": [],
   "source": [
    "# Your solution is here"
   ]
  },
  {
   "cell_type": "markdown",
   "metadata": {
    "pycharm": {
     "name": "#%% md\n"
    }
   },
   "source": [
    "#### Using block elimination find matrix $S$ and right-hand side $\\hat{f_2}$ so that $u_2$ can be found from $S u_2 = \\hat{f_2}$.\n",
    "\n",
    "$\n",
    "\\begin{bmatrix}\n",
    "\\begin{array}{cc|c}\n",
    "A_{11} & A_{12} & f_1\\\\\n",
    "A_{21} & A_{22} & f_2\n",
    "\\end{array}\n",
    "\\end{bmatrix}\n",
    "\\to_{II - \\frac{A_{21}}{A_{11}}I}\n",
    "\\begin{bmatrix}\n",
    "\\begin{array}{cc|c}\n",
    "A_{11} & A_{12} & f_1\\\\\n",
    "A_{21} - A_{21}A_{11}^{-1}A_{11} & A_{22} - A_{21}A_{11}^{-1}A_{12} & f_2 - A_{21}A_{11}^{-1}f_1\n",
    "\\end{array}\n",
    "\\end{bmatrix}\n",
    "=\n",
    "\\begin{bmatrix}\n",
    "\\begin{array}{cc|c}\n",
    "A_{11} & A_{12} & f_1\\\\\n",
    "0 & A_{22} - A_{21}A_{11}^{-1}A_{12} & f_2 - A_{21}A_{11}^{-1}f_1\n",
    "\\end{array}\n",
    "\\end{bmatrix}\n",
    "$\n",
    "\n",
    "$\n",
    "(A_{22} - A_{21}A_{11}^{-1}A_{12}) u_2 = f_2 - A_{21}A_{11}^{-1}f_1\\\\\\\n",
    "S = A_{22} - A_{21}A_{11}^{-1}A_{12}\n",
    "$\n",
    "\n",
    "$\n",
    "\\hat{f} = f_2 - A_{21}A_{11}^{-1}f_1\n",
    "$"
   ]
  },
  {
   "cell_type": "markdown",
   "metadata": {
    "pycharm": {
     "name": "#%% md\n"
    }
   },
   "source": [
    "#### Using Schur complement properties prove that $\\det(X+AB) = \\det(X)\\det(I+BX^{-1}A)$\n",
    "\n",
    "$det(X + AB) = det(X + AI^{-1}B) =\n",
    "det(\n",
    "\\begin{bmatrix}\n",
    "X & -A\\\\\n",
    "B & I\n",
    "\\end{bmatrix}\n",
    ")=\n",
    "$\n",
    "\n",
    "$\n",
    "=det(\n",
    "\\begin{bmatrix}\n",
    "X & -A\\\\\n",
    "B - BX^{-1}X & I - BX^{-1}(-A)\n",
    "\\end{bmatrix}\n",
    ")\n",
    "=\n",
    "det(\n",
    "\\begin{bmatrix}\n",
    "X & -A\\\\\n",
    "0 & I + BX^{-1}A\n",
    "\\end{bmatrix}\n",
    ")=\n",
    "$\n",
    "\n",
    "$\n",
    "=det(X(I + BX^{-1}A) - 0) = det(X)det(I + BX^{-1}A)\n",
    "$"
   ]
  },
  {
   "cell_type": "markdown",
   "metadata": {
    "pycharm": {
     "name": "#%% md\n"
    }
   },
   "source": [
    "#### Let matrix $F \\in \\mathbb{R}^{m \\times n}$ and $G \\in \\mathbb{R}^{n \\times m}$. Prove that $\\det(I_m - FG) = \\det(I_n - GF).$\n",
    "\n",
    "$\n",
    "det(I_m - FG) = det(I_m - FI_n^{-1}G)= \n",
    "det(\n",
    "\\begin{bmatrix}\n",
    "I_m & F\\\\\n",
    "G & I_n\n",
    "\\end{bmatrix}\n",
    ")=\n",
    "$\n",
    "\n",
    "$\n",
    "=det(\n",
    "\\begin{bmatrix}\n",
    "I_m - I_mG^{-1}G & F - I_mG^{-1}I_n\\\\\n",
    "G & I_n\n",
    "\\end{bmatrix}\n",
    ")=\n",
    "det(\n",
    "\\begin{bmatrix}\n",
    "0 & F - I_mG^{-1}I_n\\\\\n",
    "G & I_n\n",
    "\\end{bmatrix}\n",
    ")=\n",
    "$\n",
    "\n",
    "$\n",
    "=det(0 - G(F - I_mG^{-1}I_n)) = det(-GF + GI_mG^{-1}I_n)) = det(I_n - GF))\n",
    "$"
   ]
  },
  {
   "cell_type": "markdown",
   "metadata": {
    "id": "YFc3BR_TOGIj"
   },
   "source": [
    "### 4.  Efficient implementation of LU decomposition (10 pts) \n",
    "\n",
    "In the lecture we provide naive implementation of LU factorization with loops and elementwise update of factors. In this subproblem we ask you to provide more efficient implementation of LU factorization and explain how you derive this implementation (main ideas and how you use them in this particular case). \n",
    "- (1 pts) Main idea for speed up computation of LU factorization (without using built-in function!) \n",
    "- (4 pts) Implement the presented approach to speed up LU \n",
    "- (1 pts) Illustrate numerically that your implementation is correct\n",
    "- (2 pts) Provide the comparison of running time of naive implementation from the lecture, your implementation and NumPy built-in function for range of matrix dimensions. We expect you plot the running time vs matrix dimension for these implementations. So you should get the plot with three lines.\n",
    "- (2 pts) Discuss the obtained results and explain what other tricks are possible to accelerate computing the LU factorization. \n",
    "\n",
    "NumPy or JAX are both ok in this subproblem, but please use the single library for all implementations. "
   ]
  },
  {
   "cell_type": "code",
   "execution_count": 8,
   "metadata": {
    "id": "4RBDYAWUOGIj"
   },
   "outputs": [],
   "source": [
    "# Your solution is here"
   ]
  },
  {
   "cell_type": "markdown",
   "metadata": {
    "pycharm": {
     "name": "#%% md\n"
    }
   },
   "source": [
    "#### Main idea for speed up computation of LU factorization\n",
    "\n",
    "idea: block LU\n",
    "\n",
    "source: http://www.cs.cornell.edu/~bindel/class/cs6210-f12/notes/lec09.pdf\n"
   ]
  },
  {
   "cell_type": "markdown",
   "metadata": {
    "pycharm": {
     "name": "#%% md\n"
    }
   },
   "source": [
    "#### Implement the presented approach to speed up LU"
   ]
  },
  {
   "cell_type": "code",
   "execution_count": 9,
   "metadata": {
    "pycharm": {
     "name": "#%%\n"
    }
   },
   "outputs": [],
   "source": [
    "def lecture_lu(matrix):\n",
    "    a = np.copy(matrix)\n",
    "    n = a.shape[0]\n",
    "    L = np.zeros((n, n))\n",
    "    U = np.zeros((n, n))\n",
    "    for k in range(n): #Eliminate one row\n",
    "        L[k, k] = 1\n",
    "        for i in range(k+1, n):\n",
    "            L[i, k] = a[i, k] / a[k, k]\n",
    "            for j in range(k+1, n):\n",
    "                a[i, j] -= L[i, k] * a[k, j]\n",
    "        for j in range(k, n):\n",
    "            U[k, j] = a[k, j]\n",
    "    return L, U\n",
    "\n",
    "\n",
    "def lu(matrix): # contain L and U in 1 matrix\n",
    "    A = np.copy(matrix)\n",
    "    \n",
    "    n = A.shape[0]\n",
    "    \n",
    "    for j in range(n):\n",
    "        A[j+1:n, j] = A[j+1:n, j] / A[j, j]\n",
    "        A[j+1:n, j+1:n] = A[j+1:n, j+1:n] -  np.outer(A[j+1:n, j],  A[j, j+1:n])\n",
    "        \n",
    "    return A\n",
    "\n",
    "\n",
    "def block_LU(matrix, number_of_blocks = 2): #contain L and U in 1 natrix\n",
    "    A = np.copy(matrix)\n",
    "    n = A.shape[0]\n",
    "    block_size = n // number_of_blocks\n",
    "    idx = []\n",
    "        \n",
    "    for i in range(number_of_blocks):\n",
    "        idx.append(block_size * i)\n",
    "    \n",
    "    M = len(idx) - 1\n",
    "    for j in range(M):\n",
    "\n",
    "        A[idx[j]:idx[j + 1], idx[j]:idx[j + 1]] = lu(A[idx[j]:idx[j + 1], idx[j]:idx[j + 1]]) #lu(A[J][:, J])\n",
    "        \n",
    "        L_JJ = np.tril(A[idx[j]:idx[j + 1], idx[j]:idx[j + 1]],-1) + np.eye(idx[j + 1] - idx[j])\n",
    "        \n",
    "        U_JJ = np.triu(A[idx[j]:idx[j + 1], idx[j]:idx[j + 1]])\n",
    "        \n",
    "        A[idx[j + 1]:n, idx[j]:idx[j + 1]] = A[idx[j + 1]:n, idx[j]:idx[j + 1]] @ np.linalg.inv(U_JJ)\n",
    "        A[idx[j]:idx[j + 1], idx[j + 1]:n] = np.linalg.inv(L_JJ) @ A[idx[j]:idx[j + 1], idx[j + 1]:n]\n",
    "        A[idx[j + 1]:n, idx[j + 1]:n] = lu(A[idx[j + 1]:n, idx[j + 1]:n] - A[idx[j + 1]:n, idx[j]:idx[j + 1]] @ A[idx[j]:idx[j + 1], idx[j + 1]:n])\n",
    "    \n",
    "    return A\n",
    "    "
   ]
  },
  {
   "cell_type": "markdown",
   "metadata": {
    "pycharm": {
     "name": "#%% md\n"
    }
   },
   "source": [
    "#### Illustrate numerically that your implementation is correct"
   ]
  },
  {
   "cell_type": "code",
   "execution_count": 10,
   "metadata": {
    "pycharm": {
     "name": "#%%\n"
    }
   },
   "outputs": [
    {
     "name": "stdout",
     "output_type": "stream",
     "text": [
      "3.3306690738754696e-16\n",
      "\n",
      "3.3306690738754696e-16\n",
      "\n",
      "2.603703785810335e-16\n"
     ]
    }
   ],
   "source": [
    "#diag_broadcast = [6, 3, 7, -3, 4]\n",
    "\n",
    "n = 5\n",
    "\n",
    "# shift = len(diag_broadcast) // 2\n",
    "# A = np.zeros((n, n))\n",
    "# for k in range(-shift, shift + 1):\n",
    "#     A += np.diag([diag_broadcast[k + shift]] * (n - np.abs(k)), k)\n",
    "\n",
    "A = np.random.random((n, n))\n",
    "A = A @ A.T\n",
    "\n",
    "#print(A)\n",
    "A_lu = lu(A)\n",
    "L = np.eye(n) + np.tril(A_lu, -1)\n",
    "U = np.triu(A_lu)\n",
    "print(np.linalg.norm(A - L @ U))\n",
    "# print(L)\n",
    "# print(U)\n",
    "# print(L @ U)\n",
    "print()\n",
    "\n",
    "L, U = lecture_lu(A)\n",
    "print(np.linalg.norm(A - L @ U))\n",
    "print()\n",
    "\n",
    "A_block = block_LU(A)\n",
    "L = np.eye(n) + np.tril(A_block, -1)\n",
    "U = np.triu(A_block)\n",
    "print(np.linalg.norm(A - L @ U))\n",
    "# print(L)\n",
    "# print(U)\n",
    "# print(L @ U)"
   ]
  },
  {
   "cell_type": "markdown",
   "metadata": {
    "pycharm": {
     "name": "#%% md\n"
    }
   },
   "source": [
    "#### Provide the comparison of running time of naive implementation from the lecture, your implementation and NumPy(scipy?) built-in function"
   ]
  },
  {
   "cell_type": "code",
   "execution_count": 11,
   "metadata": {
    "pycharm": {
     "name": "#%%\n"
    }
   },
   "outputs": [
    {
     "name": "stdout",
     "output_type": "stream",
     "text": [
      "50 complited\n",
      "155 complited\n",
      "261 complited\n",
      "366 complited\n",
      "472 complited\n",
      "577 complited\n",
      "683 complited\n",
      "788 complited\n",
      "894 complited\n",
      "1000 complited\n"
     ]
    },
    {
     "data": {
      "image/png": "[encoded data removed]",
      "text/plain": [
       "<Figure size 648x648 with 1 Axes>"
      ]
     },
     "metadata": {
      "needs_background": "light"
     },
     "output_type": "display_data"
    }
   ],
   "source": [
    "N = np.linspace(50, 1000, 10, dtype='int')\n",
    "\n",
    "lecture_time = []\n",
    "block_time = []\n",
    "scipy_time = []\n",
    "\n",
    "for n in N:\n",
    "\n",
    "    A = np.random.random((n, n))\n",
    "    A = A @ A.T\n",
    "\n",
    "    cur_time = time.time()\n",
    "    lu(A) #lecture_lu(A) #method from lecture take much time\n",
    "    lecture_time.append(time.time() - cur_time)\n",
    "    \n",
    "\n",
    "    cur_time = time.time()\n",
    "    block_LU(A)\n",
    "    block_time.append(time.time() - cur_time)\n",
    "\n",
    "    cur_time = time.time()\n",
    "    sl.lu(A)\n",
    "    scipy_time.append(time.time() - cur_time)\n",
    "\n",
    "    print(f'{n} complited')\n",
    "\n",
    "plt.figure(figsize=(9, 9))\n",
    "plt.plot(N, lecture_time, label='lecture LU', linewidth=4)\n",
    "plt.plot(N, scipy_time, label='scipy LU', linewidth=4)\n",
    "plt.plot(N, block_time, label='block LU', linewidth=4)\n",
    "plt.xlabel('dimension of Matrix', fontsize=18)\n",
    "plt.ylabel('time', fontsize=18)\n",
    "plt.xticks(fontsize=18)\n",
    "plt.yticks(fontsize=18)\n",
    "plt.grid()\n",
    "plt.legend(fontsize=18)\n",
    "plt.title('comparasion of methods')\n",
    "plt.show()"
   ]
  },
  {
   "cell_type": "markdown",
   "metadata": {},
   "source": [
    "#### Discuss the obtained results and explain what other tricks are possible to accelerate computing the LU factorization.\n",
    "\n",
    "for small $n$ gaussian elimination have close to scipy performance, but time increase fast.\n",
    "\n",
    "block lu give better result for $n > 400$, but still scipy function better.\n",
    "\n",
    "other tricks: ... "
   ]
  },
  {
   "cell_type": "markdown",
   "metadata": {
    "id": "8DaPAmZPOGIm"
   },
   "source": [
    "## Problem 2 (eigenvalues)  55 pts\n",
    "\n",
    "### 1. Theoretical tasks (10 pts) \n",
    "\n",
    "* (5 pts) Prove that normal matrix is Hermitian iff its eigenvalues are real. Prove that normal matrix is unitary iff its eigenvalues satisfy $|\\lambda| = 1$. \n",
    "\n",
    "* (5 pts) The following problem illustrates instability of the Jordan form. Find theoretically the eigenvalues of the perturbed Jordan block:\n",
    "\n",
    "$\n",
    "    J(\\varepsilon) = \n",
    "    \\begin{bmatrix} \n",
    "     \\lambda & 1 & & & 0 \\\\ \n",
    "     & \\lambda & 1 & & \\\\ \n",
    "     &  & \\ddots & \\ddots & \\\\ \n",
    "     & & & \\lambda & 1 \\\\ \n",
    "     \\varepsilon & & & & \\lambda  \\\\ \n",
    "    \\end{bmatrix}_{n\\times n}\n",
    "$\n",
    "\n",
    "Comment how eigenvalues of $J(0)$ are perturbed for large $n$."
   ]
  },
  {
   "cell_type": "code",
   "execution_count": 12,
   "metadata": {
    "id": "8tMMinQ9OGIm"
   },
   "outputs": [],
   "source": [
    "# Your solution is here"
   ]
  },
  {
   "cell_type": "markdown",
   "metadata": {
    "pycharm": {
     "name": "#%% md\n"
    }
   },
   "source": [
    "#### Prove that normal matrix is Hermitian iff its eigenvalues are real.\n",
    "\n",
    "A matrix $A$ is normal if and only it is diagonalized by some unitary matrix, i.e., there exists a unitary matrix $U$, such that $A = U^*\\Lambda U$\n",
    "\n",
    "with $\\Lambda$ diagonal, containing the eigenvalues of $A$ in the diagonal.\n",
    "\n",
    "If eigenvalues are real, then $\\Lambda^* = \\Lambda$ and\n",
    "\n",
    "$A^* = (U^* \\Lambda U)^* = U^*  \\Lambda^* U = U^*  \\Lambda U = A$\n",
    "\n",
    "#### Prove that normal matrix is unitary iff its eigenvalues satisfy $|\\lambda| = 1$\n",
    "\n",
    "If $AA^* = A^*A = I$ then $A$ is unitary \n",
    "\n",
    "$A = U^*\\Lambda U$, $A^* = U^*\\Lambda^* U$\n",
    "\n",
    "$AA^* = U^*\\Lambda U U^*\\Lambda^* U = U^*\\Lambda \\Lambda^* U = U^*\\Lambda \\Lambda U = U^* I U = I$\n",
    "\n",
    "$A^*A = U^*\\Lambda^* U U^*\\Lambda U = U^*\\Lambda^* \\Lambda U = U^*\\Lambda \\Lambda U = U^* I U = I$"
   ]
  },
  {
   "cell_type": "markdown",
   "metadata": {
    "pycharm": {
     "name": "#%% md\n"
    }
   },
   "source": [
    "#### Find theoretically the eigenvalues of the perturbed Jordan block:\n",
    "\n",
    "$\n",
    "    J(\\varepsilon) =\n",
    "    \\begin{bmatrix}\n",
    "     \\lambda & 1 & & & 0 \\\\\n",
    "     & \\lambda & 1 & & \\\\\n",
    "     &  & \\ddots & \\ddots & \\\\\n",
    "     & & & \\lambda & 1 \\\\\n",
    "     \\varepsilon & & & & \\lambda  \\\\\n",
    "    \\end{bmatrix}_{n\\times n}\n",
    "$\n",
    "\n",
    "We can find eigenvalues from $det(J(\\varepsilon) - I\\hat{\\lambda}) = 0$\n",
    "\n",
    "$\n",
    "det(J(\\varepsilon) - I\\hat{\\lambda}) =\n",
    "\\begin{vmatrix}\n",
    "\\lambda - \\hat{\\lambda} & 1 & & & 0 \\\\\n",
    "& \\lambda - \\hat{\\lambda} & 1 & & \\\\\n",
    "&  & \\ddots & \\ddots & \\\\\n",
    "& & & \\lambda - \\hat{\\lambda} & 1 \\\\\n",
    "\\varepsilon & & & & \\lambda - \\hat{\\lambda} \\\\\n",
    "\\end{vmatrix}\n",
    "=(\\lambda - \\hat{\\lambda})\n",
    "\\begin{vmatrix}\n",
    "\\lambda - \\hat{\\lambda} & 1 & & 0\\\\\n",
    "& \\ddots & \\ddots & \\\\\n",
    "& & \\lambda - \\hat{\\lambda} & 1 \\\\\n",
    "& & & \\lambda - \\hat{\\lambda} \\\\\n",
    "\\end{vmatrix}\n",
    "-\n",
    "\\begin{vmatrix}\n",
    "& 1 & & & 0 \\\\\n",
    "&  & \\ddots & \\ddots & \\\\\n",
    "& & & \\lambda - \\hat{\\lambda} & 1 \\\\\n",
    "\\varepsilon & & & & \\lambda - \\hat{\\lambda} \\\\\n",
    "\\end{vmatrix}\n",
    "=\n",
    "...\n",
    "=\n",
    "$\n",
    "\n",
    "$\n",
    "=(\\lambda - \\hat{\\lambda})^n - (-1)^n \\varepsilon\n",
    "$\n",
    "\n",
    "$\n",
    "(\\lambda - \\hat{\\lambda})^n - (-1)^n \\varepsilon = 0 \\\\\\\n",
    "(\\lambda - \\hat{\\lambda})^n = (-1)^n \\varepsilon \\\\\\\n",
    "(\\lambda - \\hat{\\lambda}) = (-1) \\sqrt[n]{\\varepsilon} \\\\\\\n",
    "\\hat{\\lambda} = \\lambda + \\sqrt[n]{\\varepsilon}\n",
    "$\n",
    "\n",
    "#### Comment how eigenvalues of $J(0)$ are perturbed for large $n$.\n",
    "For $J(0)$ we obtain  $\\hat{\\lambda} = \\lambda + \\sqrt[n]{0} = \\lambda$"
   ]
  },
  {
   "cell_type": "markdown",
   "metadata": {},
   "source": [
    "### 2. PageRank (35 pts)\n",
    "\n",
    "\n",
    "#### Damping factor importance\n",
    "\n",
    "* (5 pts) Write the function ```pagerank_matrix(G)``` that takes an adjacency matrix $G$ (in both sparse and dense formats) as an input and outputs the corresponding PageRank matrix $A$."
   ]
  },
  {
   "cell_type": "code",
   "execution_count": 13,
   "metadata": {
    "pycharm": {
     "name": "#%%\n"
    }
   },
   "outputs": [],
   "source": [
    "\n",
    "\n",
    "# INPUT:  G - np.ndarray or sparse matrix\n",
    "# OUTPUT: A - np.ndarray (of size G.shape) or sparse matrix\n",
    "\n",
    "## G: from i have connection to j\n",
    "def pagerank_matrix(G):\n",
    "    # enter your code here\n",
    "\n",
    "    A = G.copy().astype('float')\n",
    "    \n",
    "    s = np.array(np.sum(A, axis=1)).reshape((-1, ))\n",
    "    \n",
    "    if sparse.issparse(A):\n",
    "#         data = A.data\n",
    "#         columns = A.indices\n",
    "#         rows = A.indptr \\\\ rows[1] - rows[0] = number of elements in row 0\n",
    "        \n",
    "        for i in range(A.shape[0]):\n",
    "            if s[i] != 0:\n",
    "                A.data[A.indptr[i]:A.indptr[i + 1]] /= s[i]\n",
    "                #SUPER not eficcient\n",
    "                #how to insert row with 1/shape[0] values?\n",
    "#             else:\n",
    "#                 A[i] = np.ones(A.shape[0]) / A.shape[0]\n",
    "            \n",
    "            print(i, end='\\r')\n",
    "                \n",
    "    \n",
    "    else:\n",
    "        for i in range(A.shape[0]):\n",
    "        \n",
    "            if s[i] > 0:\n",
    "                A[:, i] /= s[i]\n",
    "            else:\n",
    "                A[i] = np.ones(A.shape[0]) / A.shape[0]\n",
    "    \n",
    "    return A\n",
    "\n",
    "\n"
   ]
  },
  {
   "cell_type": "markdown",
   "metadata": {
    "id": "BtVmgGnYOGIs",
    "pycharm": {
     "name": "#%% md\n"
    }
   },
   "source": [
    "* (3 pts) Find PageRank matrix $A$ that corresponds to the following graph: <img src=\"graph.png\" width='250'>\n",
    "What is its largest eigenvalue? What multiplicity does it have?\n",
    "\n",
    "\n",
    "* (5 pts) Implement the power method for a given matrix $A$, an initial guess $x_0$ and a number of iterations ```num_iter```. It should be organized as a function ```power_method(A, x0, num_iter)``` that outputs approximation to eigenvector $x$, eigenvalue $\\lambda$ and history of residuals $\\{\\|Ax_k - \\lambda_k x_k\\|_2\\}$. Make sure that the method converges to the correct solution on a matrix $\\begin{bmatrix} 2 & -1 \\\\ -1 & 2 \\end{bmatrix}$ which is known to have the largest eigenvalue equal to $3$."
   ]
  },
  {
   "cell_type": "markdown",
   "metadata": {
    "pycharm": {
     "name": "#%% md\n"
    }
   },
   "source": [
    "#### Find PageRank matrix $A$ that corresponds to the following graph"
   ]
  },
  {
   "cell_type": "code",
   "execution_count": 14,
   "metadata": {
    "pycharm": {
     "name": "#%%\n"
    }
   },
   "outputs": [
    {
     "name": "stdout",
     "output_type": "stream",
     "text": [
      "0\r",
      "1\r",
      "2\r",
      "3\r",
      "4\r",
      "[[0.  1.  0.  0.  0. ]\n",
      " [0.  0.  1.  0.  0. ]\n",
      " [0.5 0.5 0.  0.  0. ]\n",
      " [0.  0.  0.  0.  1. ]\n",
      " [0.  0.  0.  1.  0. ]]\n"
     ]
    }
   ],
   "source": [
    "G = np.array([\n",
    "    [0, 1, 0, 0, 0],\n",
    "    [0, 0, 1, 0, 0],\n",
    "    [1, 1, 0, 0, 0],\n",
    "    [0, 0, 0, 0, 1],\n",
    "    [0, 0, 0, 1, 0]\n",
    "])\n",
    "\n",
    "G_crs = sparse.csr_matrix(G)\n",
    "\n",
    "A = pagerank_matrix(G_crs)\n",
    "\n",
    "print(A.toarray())"
   ]
  },
  {
   "cell_type": "markdown",
   "metadata": {
    "pycharm": {
     "name": "#%% md\n"
    }
   },
   "source": [
    "#### What is its largest eigenvalue? What multiplicity does it have?"
   ]
  },
  {
   "cell_type": "code",
   "execution_count": 15,
   "metadata": {
    "pycharm": {
     "name": "#%%\n"
    }
   },
   "outputs": [
    {
     "name": "stdout",
     "output_type": "stream",
     "text": [
      "Max val equal to 1.0\n",
      "multiplicity equal to 2\n"
     ]
    }
   ],
   "source": [
    "eig_val = np.linalg.eigvals(A.toarray())\n",
    "\n",
    "max_val = eig_val.max()\n",
    "multiplicity = eig_val[eig_val == max_val].shape[0]\n",
    "\n",
    "print(f'Max val equal to {abs(max_val)}')\n",
    "print(f'multiplicity equal to {multiplicity}')"
   ]
  },
  {
   "cell_type": "markdown",
   "metadata": {
    "pycharm": {
     "name": "#%% md\n"
    }
   },
   "source": [
    "#### Implement the power method for a given matrix $A$"
   ]
  },
  {
   "cell_type": "code",
   "execution_count": 16,
   "metadata": {
    "pycharm": {
     "name": "#%%\n"
    }
   },
   "outputs": [],
   "source": [
    "# INPUT:  A - np.ndarray (2D), x0 - np.ndarray (1D), num_iter - integer (positive)\n",
    "# OUTPUT: x - np.ndarray (of size x0), l - float, res - np.ndarray (of size num_iter + 1 [include initial guess])\n",
    "def power_method(A, x0, num_iter, debug=False): # 5 pts\n",
    "    # enter your code here\n",
    "    x = x0\n",
    "    res = []\n",
    "    l = A.dot(x).dot(x)\n",
    "    res.append(np.linalg.norm(A.dot(x) - l * x))\n",
    "\n",
    "    for i in range(1, num_iter + 1):\n",
    "        x = A.dot(x)\n",
    "        x /= np.linalg.norm(x)\n",
    "        l = A.dot(x).dot(x)\n",
    "        res.append(np.linalg.norm(A.dot(x) - l * x))\n",
    "        if debug:\n",
    "            print(f'iteration: {i}', end='\\r')\n",
    "    print()\n",
    "\n",
    "    res = np.array(res)\n",
    "    assert len(res) == (num_iter + 1)\n",
    "    return x, l, res"
   ]
  },
  {
   "cell_type": "code",
   "execution_count": 17,
   "metadata": {
    "pycharm": {
     "name": "#%%\n"
    }
   },
   "outputs": [
    {
     "name": "stdout",
     "output_type": "stream",
     "text": [
      "\n",
      "3.0\n"
     ]
    }
   ],
   "source": [
    "A = np.array([\n",
    "    [2, -1],\n",
    "    [-1, 2]\n",
    "])\n",
    "\n",
    "x0 = np.random.random(A.shape[0])\n",
    "\n",
    "x, l, res = power_method(A, x0, 100)\n",
    "\n",
    "print(l)"
   ]
  },
  {
   "cell_type": "markdown",
   "metadata": {
    "id": "9hAowO6zOGIu",
    "pycharm": {
     "name": "#%% md\n"
    }
   },
   "source": [
    "* (2 pts) Run the power method for the graph presented above and plot residuals $\\|Ax_k - \\lambda_k x_k\\|_2$ as a function of $k$ for ```num_iter=100``` and random initial guess ```x0```.  Explain the absence of convergence. \n",
    "\n",
    "\n",
    "* (2 pts) Consider the same graph, but with additional self loop at node 4 (self loop is an edge that connects a vertex with itself). Plot residuals as in the previous task and discuss the convergence. Now, run the power method with ```num_iter=100``` for 10 different initial guesses and print/plot the resulting approximated eigenvectors. Why do they depend on the initial guess?\n",
    "\n",
    "\n",
    "In order to avoid this problem Larry Page and Sergey Brin [proposed](http://ilpubs.stanford.edu:8090/422/1/1999-66.pdf) to use the following regularization technique:\n",
    "\n",
    "$\n",
    "A_d = dA + \\frac{1-d}{N} \\begin{pmatrix} 1 & \\dots & 1 \\\\ \\vdots & & \\vdots \\\\ 1 & \\dots & 1 \\end{pmatrix},\n",
    "$\n",
    "\n",
    "where $d$ is a small parameter in $[0,1]$ (typically $d=0.85$), which is called **damping factor**, $A$ is of size $N\\times N$. Now $A_d$ is the matrix with multiplicity of the largest eigenvalue equal to 1. \n",
    "Recall that computing the eigenvector of the PageRank matrix, which corresponds to the largest eigenvalue, has the following interpretation. Consider a person who stays in a random node of a graph (i.e. opens a random web page); at each step s/he follows one of the outcoming edges uniformly at random (i.e. opens one of the links). So the person randomly walks through the graph and the eigenvector we are looking for is exactly his/her stationary distribution â€” for each node it tells you the probability of visiting this particular node. Therefore, if the person has started from a part of the graph which is not connected with the other part, he will never get there.  In the regularized model, the person at each step follows one of the outcoming links with probability $d$ OR teleports to a random node from the whole graph with probability $(1-d)$.\n",
    "\n",
    "* (2 pts) Now, run the power method with $A_d$ and plot residuals $\\|A_d x_k - \\lambda_k x_k\\|_2$ as a function of $k$ for $d=0.97$, ```num_iter=100``` and a random initial guess ```x0```.\n",
    "\n",
    "* (5 pts) Find the second largest in the absolute value eigenvalue of the obtained matrix $A_d$. How and why is it connected to the damping factor $d$? What is the convergence rate of the PageRank algorithm when using damping factor?\n",
    "\n",
    "Usually, graphs that arise in various areas are sparse (social, web, road networks, etc.) and, thus, computation of a matrix-vector product for corresponding PageRank matrix $A$ is much cheaper than $\\mathcal{O}(N^2)$. However, if $A_d$ is calculated directly, it becomes dense and, therefore, $\\mathcal{O}(N^2)$ cost grows prohibitively large for  big $N$.\n",
    "\n",
    "\n",
    "* (2 pts) Implement fast matrix-vector product for $A_d$ as a function ```pagerank_matvec(A, d, x)```, which takes a PageRank matrix $A$ (in sparse format, e.g., ```csr_matrix```), damping factor $d$ and a vector $x$ as an input and returns $A_dx$ as an output.\n",
    "\n",
    "* (1 pts) Generate a random adjacency matrix of size $10000 \\times 10000$ with only 100 non-zero elements and compare ```pagerank_matvec``` performance with direct evaluation of $A_dx$."
   ]
  },
  {
   "cell_type": "markdown",
   "metadata": {
    "pycharm": {
     "name": "#%% md\n"
    }
   },
   "source": [
    "#### Run the power method for the graph presented above"
   ]
  },
  {
   "cell_type": "code",
   "execution_count": 18,
   "metadata": {
    "pycharm": {
     "name": "#%%\n"
    }
   },
   "outputs": [
    {
     "name": "stdout",
     "output_type": "stream",
     "text": [
      "\n",
      "eigenvector: [0.28086407 0.28086407 0.56172815 0.56762119 0.45221501]\n",
      "eigenvalue: 0.9866814136685114\n"
     ]
    },
    {
     "data": {
      "image/png": "[encoded data removed]",
      "text/plain": [
       "<Figure size 648x648 with 1 Axes>"
      ]
     },
     "metadata": {
      "needs_background": "light"
     },
     "output_type": "display_data"
    }
   ],
   "source": [
    "num_iter = 100\n",
    "A = pagerank_matrix(G)\n",
    "x_0 = np.random.random(A.shape[0])\n",
    "x_0 /= sum(x_0)\n",
    "x, l, res = power_method(A, x_0, num_iter)\n",
    "\n",
    "print(f'eigenvector: {x}')\n",
    "print(f'eigenvalue: {l}')\n",
    "\n",
    "plt.figure(figsize=(9, 9))\n",
    "plt.plot(res, linewidth=4)\n",
    "plt.xlabel('number of itrations', fontsize=18)\n",
    "plt.ylabel('residuals', fontsize=18)\n",
    "plt.xticks(fontsize=18)\n",
    "plt.yticks(fontsize=18)\n",
    "plt.grid()\n",
    "plt.title('power method for the graph')\n",
    "plt.show()"
   ]
  },
  {
   "cell_type": "code",
   "execution_count": 19,
   "metadata": {
    "pycharm": {
     "name": "#%%\n"
    }
   },
   "outputs": [
    {
     "data": {
      "text/plain": [
       "[(1.0000000000000004+0j), (1+0j), (-0.5+0.5j), (-0.5-0.5j), (-1+0j)]"
      ]
     },
     "execution_count": 19,
     "metadata": {},
     "output_type": "execute_result"
    }
   ],
   "source": [
    "eig_val = np.linalg.eigvals(A)\n",
    "sorted(eig_val, reverse=True)"
   ]
  },
  {
   "cell_type": "markdown",
   "metadata": {
    "pycharm": {
     "name": "#%% md\n"
    }
   },
   "source": [
    "we have 2 eigenvalues with absolute value $1$ but with different signs, this fact influence on convergance. "
   ]
  },
  {
   "cell_type": "markdown",
   "metadata": {
    "pycharm": {
     "name": "#%% md\n"
    }
   },
   "source": [
    "####  Consider the same graph, but with additional self loop at node 4"
   ]
  },
  {
   "cell_type": "code",
   "execution_count": 20,
   "metadata": {
    "pycharm": {
     "name": "#%%\n"
    }
   },
   "outputs": [
    {
     "name": "stderr",
     "output_type": "stream",
     "text": [
      "No handles with labels found to put in legend.\n"
     ]
    },
    {
     "name": "stdout",
     "output_type": "stream",
     "text": [
      "\n",
      "\n",
      "eigenvector: [0.39312185 0.7862437  0.39312185 0.12060786 0.24121571]\n",
      "eigenvalue: 0.9999999999999997\n"
     ]
    },
    {
     "data": {
      "image/png": "[encoded data removed]",
      "text/plain": [
       "<Figure size 648x648 with 1 Axes>"
      ]
     },
     "metadata": {
      "needs_background": "light"
     },
     "output_type": "display_data"
    }
   ],
   "source": [
    "G_with_self = np.array([\n",
    "    [0, 0, 1, 0, 0],\n",
    "    [1, 0, 1, 0, 0],\n",
    "    [0, 1, 0, 0, 0],\n",
    "    [0, 0, 0, 0, 1],\n",
    "    [0, 0, 0, 1, 1]\n",
    "])\n",
    "\n",
    "print()\n",
    "A_with_self = pagerank_matrix(G_with_self)\n",
    "x_0 = np.random.random(A_with_self.shape[0])\n",
    "x, l, res = power_method(A_with_self, x_0, num_iter)\n",
    "\n",
    "print(f'eigenvector: {x}')\n",
    "print(f'eigenvalue: {l}')\n",
    "\n",
    "plt.figure(figsize=(9, 9))\n",
    "plt.plot(res, linewidth=4)\n",
    "plt.legend(fontsize=18)\n",
    "plt.xlabel('number of itrations', fontsize=18)\n",
    "plt.ylabel('residuals', fontsize=18)\n",
    "plt.yscale('log')\n",
    "plt.xticks(fontsize=18)\n",
    "plt.yticks(fontsize=18)\n",
    "plt.grid()\n",
    "plt.title('power method for the updated graph')\n",
    "plt.show()"
   ]
  },
  {
   "cell_type": "code",
   "execution_count": 21,
   "metadata": {
    "pycharm": {
     "name": "#%%\n"
    }
   },
   "outputs": [
    {
     "data": {
      "text/plain": [
       "[(1+0j),\n",
       " (1+0j),\n",
       " (-0.5+0.49999999999999983j),\n",
       " (-0.5+0j),\n",
       " (-0.5-0.49999999999999983j)]"
      ]
     },
     "execution_count": 21,
     "metadata": {},
     "output_type": "execute_result"
    }
   ],
   "source": [
    "eig_val = np.linalg.eigvals(A_with_self)\n",
    "sorted((eig_val), reverse=True)"
   ]
  },
  {
   "cell_type": "markdown",
   "metadata": {
    "pycharm": {
     "name": "#%% md\n"
    }
   },
   "source": [
    "Now we have eigenvalues $1$ only with positive sign "
   ]
  },
  {
   "cell_type": "code",
   "execution_count": 22,
   "metadata": {
    "pycharm": {
     "name": "#%%\n"
    }
   },
   "outputs": [
    {
     "name": "stdout",
     "output_type": "stream",
     "text": [
      "\n",
      "eigenvector: [0.28258381 0.56516762 0.28258381 0.32276256 0.64552511]\n",
      "\n",
      "eigenvector: [0.34372154 0.68744308 0.34372154 0.24130189 0.48260379]\n",
      "\n",
      "eigenvector: [0.38325965 0.7665193  0.38325965 0.15405989 0.30811978]\n",
      "\n",
      "eigenvector: [0.33426213 0.66852426 0.33426213 0.25675396 0.51350792]\n",
      "\n",
      "eigenvector: [0.10657743 0.21315485 0.10657743 0.43170534 0.86341069]\n",
      "\n",
      "eigenvector: [0.35388713 0.70777426 0.35388713 0.22297237 0.44594475]\n",
      "\n",
      "eigenvector: [0.21652405 0.4330481  0.21652405 0.37913164 0.75826329]\n",
      "\n",
      "eigenvector: [0.23692079 0.47384158 0.23692079 0.36420083 0.72840167]\n",
      "\n",
      "eigenvector: [0.37407166 0.74814332 0.37407166 0.17912139 0.35824278]\n",
      "\n",
      "eigenvector: [0.40763767 0.81527534 0.40763767 0.0244507  0.04890141]\n"
     ]
    },
    {
     "data": {
      "image/png": "[encoded data removed]",
      "text/plain": [
       "<Figure size 648x648 with 1 Axes>"
      ]
     },
     "metadata": {
      "needs_background": "light"
     },
     "output_type": "display_data"
    }
   ],
   "source": [
    "plt.figure(figsize=(9, 9))\n",
    "\n",
    "plt.xlabel('number of itrations', fontsize=18)\n",
    "plt.ylabel('residuals', fontsize=18)\n",
    "plt.yscale('log')\n",
    "plt.xticks(fontsize=18)\n",
    "plt.yticks(fontsize=18)\n",
    "plt.grid()\n",
    "plt.title('power method for the updated graph')\n",
    "for i in range(10):\n",
    "    x, l, res = power_method(A_with_self, np.random.random(A_with_self.shape[0]), num_iter)\n",
    "    print(f'eigenvector: {x}')\n",
    "    plt.plot(res, linewidth=4, label=f'set of x {i}')\n",
    "\n",
    "plt.legend(fontsize=18)\n",
    "plt.show()"
   ]
  },
  {
   "cell_type": "markdown",
   "metadata": {
    "pycharm": {
     "name": "#%% md\n"
    }
   },
   "source": [
    "values of eigenvectors depends on initial distribution, because we have 2 subgraphs which are not connected, in this case Markov chain depends on initial state."
   ]
  },
  {
   "cell_type": "markdown",
   "metadata": {
    "pycharm": {
     "name": "#%% md\n"
    }
   },
   "source": [
    "#### Now, run the power method with $A_d$ and plot residuals $\\|A_d x_k - \\lambda_k x_k\\|_2$ as a function of $k$ for $d=0.97$, ```num_iter=100``` and a random initial guess ```x0```"
   ]
  },
  {
   "cell_type": "code",
   "execution_count": 23,
   "metadata": {
    "pycharm": {
     "name": "#%%\n"
    }
   },
   "outputs": [
    {
     "name": "stdout",
     "output_type": "stream",
     "text": [
      "\n",
      "eigenvector: [0.33057046 0.65090313 0.32805152 0.27152674 0.5345126 ]\n",
      "eigenvalue: 1.0011815087183946\n"
     ]
    },
    {
     "data": {
      "image/png": "[encoded data removed]",
      "text/plain": [
       "<Figure size 648x648 with 1 Axes>"
      ]
     },
     "metadata": {
      "needs_background": "light"
     },
     "output_type": "display_data"
    }
   ],
   "source": [
    "d = 0.97\n",
    "N = A_with_self.shape[0]\n",
    "\n",
    "x_0 = np.random.random(N)\n",
    "\n",
    "A_d = d * A_with_self + ((1 - d) / N) * np.ones((N, N))\n",
    "\n",
    "x, l, res = power_method(A_d, x_0, num_iter)\n",
    "\n",
    "print(f'eigenvector: {x}')\n",
    "print(f'eigenvalue: {l}')\n",
    "\n",
    "plt.figure(figsize=(9, 9))\n",
    "plt.plot(res, linewidth=4)\n",
    "plt.xlabel('number of itrations', fontsize=18)\n",
    "plt.ylabel('residuals', fontsize=18)\n",
    "plt.yscale('log')\n",
    "plt.xticks(fontsize=18)\n",
    "plt.yticks(fontsize=18)\n",
    "plt.grid()\n",
    "plt.title('power method with dumping')\n",
    "plt.show()\n"
   ]
  },
  {
   "cell_type": "markdown",
   "metadata": {
    "pycharm": {
     "name": "#%% md\n"
    }
   },
   "source": [
    "#### Find the second largest in the absolute value eigenvalue of the obtained matrix $A_d$. How and why is it connected to the damping factor $d$? What is the convergence rate of the PageRank algorithm when using damping factor? "
   ]
  },
  {
   "cell_type": "code",
   "execution_count": 24,
   "metadata": {
    "pycharm": {
     "name": "#%%\n"
    }
   },
   "outputs": [
    {
     "data": {
      "text/plain": [
       "[1.0011920943540427, 0.9700000000000009]"
      ]
     },
     "execution_count": 24,
     "metadata": {},
     "output_type": "execute_result"
    }
   ],
   "source": [
    "eig_val = np.linalg.eigvals(A_d)\n",
    "sorted(abs(eig_val), reverse=True)[:2]"
   ]
  },
  {
   "cell_type": "markdown",
   "metadata": {
    "pycharm": {
     "name": "#%% md\n"
    }
   },
   "source": [
    "$\\lambda_2 = d$\n",
    "\n",
    "Why?...\n",
    "\n",
    "$q = \\frac{\\lambda_2}{\\lambda_1} = \\frac{0.97}{1} = 0.97 = d$"
   ]
  },
  {
   "cell_type": "code",
   "execution_count": 25,
   "metadata": {
    "pycharm": {
     "name": "#%%\n"
    }
   },
   "outputs": [],
   "source": [
    "\n",
    "# INPUT:  A - np.ndarray (2D), d - float (from 0.0 to 1.0), x - np.ndarray (1D, size of A.shape[0/1])\n",
    "# OUTPUT: y - np.ndarray (1D, size of x)\n",
    "def pagerank_matvec(A, d, x): # 2 pts\n",
    "    # enter your code here\n",
    "    #Ad@x = (dA + (1 - d)*np.ones(N, N)/N)@x\n",
    "    N = A.shape[0]\n",
    "    y = d * A @ x + (1 - d) * sum(x) / N\n",
    "    return y"
   ]
  },
  {
   "cell_type": "markdown",
   "metadata": {
    "pycharm": {
     "name": "#%% md\n"
    }
   },
   "source": [
    "#### Generate a random adjacency matrix of size $10000 \\times 10000$ with only 100 non-zero elements and compare ```pagerank_matvec``` performance with direct evaluation of $A_dx$."
   ]
  },
  {
   "cell_type": "code",
   "execution_count": 26,
   "metadata": {
    "pycharm": {
     "name": "#%%\n"
    }
   },
   "outputs": [],
   "source": [
    "def generate_matrix(N, nnz):\n",
    "    M = np.zeros((N, N))\n",
    "    \n",
    "    for _ in range(nnz):\n",
    "        y = np.random.randint(N)\n",
    "        x = np.random.randint(N)\n",
    "        \n",
    "        while M[y][x] == 1:\n",
    "            y = np.random.randint(N)\n",
    "            x = np.random.randint(N)\n",
    "        M[y][x] = 1\n",
    "    return M"
   ]
  },
  {
   "cell_type": "code",
   "execution_count": 27,
   "metadata": {},
   "outputs": [
    {
     "name": "stdout",
     "output_type": "stream",
     "text": [
      "100.0\n",
      "fast: 0.0029954910278320312\n",
      "direct 0.10099983215332031\n",
      "7.451293627690515e-15\n"
     ]
    }
   ],
   "source": [
    "A = generate_matrix(10000, 100)\n",
    "print(sum(sum(A)))\n",
    "d = 0.97\n",
    "N = A.shape[0]\n",
    "\n",
    "x = np.random.random(N)\n",
    "\n",
    "Ad = d * A + ((1 - d) / N) * np.ones((N, N))\n",
    "A_scr = sparse.csr_matrix(A)\n",
    "\n",
    "cur_time = time.time()\n",
    "res = pagerank_matvec(A_scr, d, x)\n",
    "print(f'fast: {time.time() - cur_time}')\n",
    "\n",
    "cur_time = time.time()\n",
    "res1 = Ad @ x\n",
    "print(f'direct {time.time() - cur_time}')\n",
    "\n",
    "print(np.linalg.norm(res - res1))"
   ]
  },
  {
   "cell_type": "markdown",
   "metadata": {
    "id": "ru70NGUlOGIy",
    "pycharm": {
     "name": "#%% md\n"
    }
   },
   "source": [
    "#### DBLP: computer science bibliography\n",
    "\n",
    "Download the dataset from [here](https://goo.gl/oZVxEa), unzip it and put `dblp_authors.npz`  and `dblp_graph.npz` in the same folder with this notebook. Each value (author name) from `dblp_authors.npz` corresponds to the row/column of the matrix from `dblp_graph.npz`. Value at row `i` and column `j` of the matrix from `dblp_graph.npz` corresponds to the number of times author `i` cited papers of the author `j`. Let us now find the most significant scientists according to PageRank model over DBLP data.\n",
    "\n",
    "* (4 pts) Load the weighted adjacency matrix and the authors list into Python using ```load_dblp(...)``` function. Print its density (fraction of nonzero elements). Find top-10 most cited authors from the weighted adjacency matrix. Now, make all the weights of the adjacency matrix equal to 1 for simplicity (consider only existence of connection between authors, not its weight). Obtain the PageRank matrix $A$ from the adjacency matrix and verify that it is stochastic.\n",
    " \n",
    " \n",
    "* (1 pts) In order to provide ```pagerank_matvec``` to your ```power_method``` (without rewriting it) for fast calculation of $A_dx$, you can create a ```LinearOperator```: \n",
    "```python\n",
    "L = scipy.sparse.linalg.LinearOperator(A.shape, matvec=lambda x, A=A, d=d: pagerank_matvec(A, d, x))\n",
    "```\n",
    "Calling ```L@x``` or ```L.dot(x)``` will result in calculation of ```pagerank_matvec(A, d, x)``` and, thus, you can plug $L$ instead of the matrix $A$ in the ```power_method``` directly. **Note:** though in the previous subtask graph was very small (so you could disparage fast matvec implementation), here it is very large (but sparse), so that direct evaluation of $A_dx$ will require $\\sim 10^{12}$ matrix elements to store - good luck with that (^_<).\n",
    "\n",
    "\n",
    "* (2 pts) Run the power method starting from the vector of all ones and plot residuals $\\|A_dx_k - \\lambda_k x_k\\|_2$  as a function of $k$ for $d=0.85$.\n",
    "\n",
    "\n",
    "* (1 pts) Print names of the top-10 authors according to PageRank over DBLP when $d=0.85$. Comment on your findings."
   ]
  },
  {
   "cell_type": "code",
   "execution_count": 28,
   "metadata": {
    "id": "L5ZnW7m-OGIz",
    "pycharm": {
     "name": "#%%\n"
    }
   },
   "outputs": [],
   "source": [
    "from scipy.sparse import load_npz\n",
    "import numpy as np\n",
    "def load_dblp(path_auth, path_graph):\n",
    "    G = load_npz(path_graph).astype(float)\n",
    "    with np.load(path_auth) as data: authors = data['authors']\n",
    "    return G, authors\n",
    "G, authors = load_dblp('dblp_authors.npz', 'dblp_graph.npz')"
   ]
  },
  {
   "cell_type": "code",
   "execution_count": 29,
   "metadata": {
    "id": "QynfixvjOGI1"
   },
   "outputs": [],
   "source": [
    "# Your code is here"
   ]
  },
  {
   "cell_type": "markdown",
   "metadata": {
    "pycharm": {
     "name": "#%% md\n"
    }
   },
   "source": [
    "#### Print its density (fraction of nonzero elements)"
   ]
  },
  {
   "cell_type": "code",
   "execution_count": 30,
   "metadata": {
    "pycharm": {
     "name": "#%%\n"
    }
   },
   "outputs": [
    {
     "name": "stdout",
     "output_type": "stream",
     "text": [
      "140388901\n",
      "3120688303209\n",
      "4.4986518152305776e-05\n"
     ]
    }
   ],
   "source": [
    "print(G.count_nonzero())\n",
    "print(G.shape[0] ** 2)\n",
    "print(G.count_nonzero() / (G.shape[0] ** 2))"
   ]
  },
  {
   "cell_type": "markdown",
   "metadata": {
    "pycharm": {
     "name": "#%% md\n"
    }
   },
   "source": [
    "#### Find top-10 most cited authors from the weighted adjacency matrix."
   ]
  },
  {
   "cell_type": "code",
   "execution_count": 31,
   "metadata": {
    "pycharm": {
     "name": "#%%\n"
    }
   },
   "outputs": [],
   "source": [
    "total_cited = np.sum(G, axis=0)\n",
    "total_cited = np.array(total_cited.tolist()[0])"
   ]
  },
  {
   "cell_type": "code",
   "execution_count": 32,
   "metadata": {
    "pycharm": {
     "name": "#%%\n"
    },
    "scrolled": true
   },
   "outputs": [
    {
     "name": "stdout",
     "output_type": "stream",
     "text": [
      "0 place: Scott Shenker\n",
      "1 place: Andrew Zisserman\n",
      "2 place: Hari Balakrishnan\n",
      "3 place: Jiawei Han\n",
      "4 place: Anil K. Jain\n",
      "5 place: Cordelia Schmid\n",
      "6 place: Jitendra Malik\n",
      "7 place: Ion Stoica\n",
      "8 place: David E. Culler\n",
      "9 place: David G. Lowe\n"
     ]
    }
   ],
   "source": [
    "for i in range(10):\n",
    "    ind = total_cited.argmax()\n",
    "    print(f'{i} place: {authors[ind]}')\n",
    "    total_cited[ind] = 0\n",
    "    "
   ]
  },
  {
   "cell_type": "markdown",
   "metadata": {},
   "source": [
    "#### make all the weights of the adjacency matrix equal to 1"
   ]
  },
  {
   "cell_type": "code",
   "execution_count": 33,
   "metadata": {
    "pycharm": {
     "name": "#%%\n"
    }
   },
   "outputs": [],
   "source": [
    "new_G = G.copy()\n",
    "new_G[new_G > 1] = 1"
   ]
  },
  {
   "cell_type": "markdown",
   "metadata": {
    "pycharm": {
     "name": "#%% md\n"
    }
   },
   "source": [
    "#### Obtain the PageRank matrix  $A$"
   ]
  },
  {
   "cell_type": "code",
   "execution_count": 34,
   "metadata": {
    "pycharm": {
     "name": "#%%\n"
    }
   },
   "outputs": [],
   "source": [
    "# shape = int(new_G.shape[0] / 100)\n",
    "# print(shape)\n",
    "# A = pagerank_matrix(new_G[:shape, :shape], debug=True)"
   ]
  },
  {
   "cell_type": "code",
   "execution_count": 35,
   "metadata": {
    "pycharm": {
     "name": "#%%\n"
    }
   },
   "outputs": [
    {
     "name": "stdout",
     "output_type": "stream",
     "text": [
      "1766546\r"
     ]
    }
   ],
   "source": [
    "A = pagerank_matrix(new_G)"
   ]
  },
  {
   "cell_type": "code",
   "execution_count": 36,
   "metadata": {
    "pycharm": {
     "name": "#%%\n"
    }
   },
   "outputs": [
    {
     "name": "stdout",
     "output_type": "stream",
     "text": [
      "not stochastic\n"
     ]
    }
   ],
   "source": [
    "for i in range(A.shape[0]):\n",
    "    if np.sum(A[i]) != 1:\n",
    "        print('not stochastic')\n",
    "        break\n",
    "\n",
    "### Oh no! but anyway..."
   ]
  },
  {
   "cell_type": "code",
   "execution_count": 37,
   "metadata": {},
   "outputs": [
    {
     "data": {
      "text/plain": [
       "(1766547, 1766547)"
      ]
     },
     "execution_count": 37,
     "metadata": {},
     "output_type": "execute_result"
    }
   ],
   "source": [
    "A.shape"
   ]
  },
  {
   "cell_type": "code",
   "execution_count": 38,
   "metadata": {
    "pycharm": {
     "name": "#%%\n"
    }
   },
   "outputs": [
    {
     "name": "stdout",
     "output_type": "stream",
     "text": [
      "iteration: 100\n"
     ]
    }
   ],
   "source": [
    "d = 0.85\n",
    "L = LinearOperator(A.shape, matvec=lambda x, A=A, d=d: pagerank_matvec(A, d, x))\n",
    "N = A.shape[0]\n",
    "x = np.ones(N)\n",
    "x, l, res = power_method(L, x, 100, debug=True)"
   ]
  },
  {
   "cell_type": "markdown",
   "metadata": {
    "pycharm": {
     "name": "#%% md\n"
    }
   },
   "source": [
    "~10 sec per iteration"
   ]
  },
  {
   "cell_type": "code",
   "execution_count": 39,
   "metadata": {
    "pycharm": {
     "name": "#%%\n"
    }
   },
   "outputs": [
    {
     "name": "stdout",
     "output_type": "stream",
     "text": [
      "eigenvector: [0.00010874 0.00077816 0.00083926 ... 0.00085117 0.00010874 0.00010874]\n",
      "eigenvalue: 0.962349497303751\n"
     ]
    },
    {
     "data": {
      "image/png": "[encoded data removed]",
      "text/plain": [
       "<Figure size 648x648 with 1 Axes>"
      ]
     },
     "metadata": {
      "needs_background": "light"
     },
     "output_type": "display_data"
    }
   ],
   "source": [
    "print(f'eigenvector: {x}')\n",
    "print(f'eigenvalue: {l}')\n",
    "\n",
    "plt.figure(figsize=(9, 9))\n",
    "plt.plot(res, linewidth=4)\n",
    "plt.xlabel('number of itrations', fontsize=18)\n",
    "plt.ylabel('residuals', fontsize=18)\n",
    "plt.yscale('log')\n",
    "plt.xticks(fontsize=18)\n",
    "plt.yticks(fontsize=18)\n",
    "plt.grid()\n",
    "plt.title('power method for the big matrix')\n",
    "plt.show()"
   ]
  },
  {
   "cell_type": "code",
   "execution_count": 40,
   "metadata": {
    "pycharm": {
     "name": "#%%\n"
    }
   },
   "outputs": [
    {
     "name": "stdout",
     "output_type": "stream",
     "text": [
      "0 place: Abigail Solomon (23996)\n",
      "1 place: Andjelka Kovačević (88695)\n",
      "2 place: Antal Urmos (118322)\n",
      "3 place: Atilim Eser (144046)\n",
      "4 place: Ayhan Comert (149719)\n",
      "5 place: B. Pődör (155142)\n",
      "6 place: Benjamin Dewals (170918)\n",
      "7 place: D. Meskauskaite (305443)\n",
      "8 place: Dale Chambers (312393)\n",
      "9 place: Darko Jevremovic (329431)\n"
     ]
    }
   ],
   "source": [
    "for i in range(10):\n",
    "    ind = x.argmax()\n",
    "    print(f'{i} place: {authors[ind]} ({ind})')\n",
    "    x[ind] = 0"
   ]
  },
  {
   "cell_type": "markdown",
   "metadata": {
    "pycharm": {
     "name": "#%% md\n"
    }
   },
   "source": [
    "We lost information about frequency of citing + matrix is not stochastic"
   ]
  },
  {
   "cell_type": "markdown",
   "metadata": {
    "id": "hQ2vaIyMOGI3",
    "pycharm": {
     "name": "#%% md\n"
    }
   },
   "source": [
    "### 3. QR algorithm (10 pts)\n",
    "\n",
    "* Implement QR-algorithm without shifting. Prototype of the function is given below"
   ]
  },
  {
   "cell_type": "code",
   "execution_count": 41,
   "metadata": {
    "id": "rMHBZLojOGI3",
    "pycharm": {
     "name": "#%%\n"
    }
   },
   "outputs": [],
   "source": [
    "# INPUT: \n",
    "# A_init - square matrix, \n",
    "# num_iter - number of iterations for QR algorithm\n",
    "# OUTPUT: \n",
    "# Ak - transformed matrix A_init given by QR algorithm, \n",
    "# convergence - numpy array of shape (num_iter, ), \n",
    "# where we store the maximal number from the Chebyshev norm \n",
    "# of triangular part of the Ak for every iteration\n",
    "def qr_algorithm(A_init, num_iter): # 3 pts\n",
    "    # enter your code here\n",
    "    convergence = []\n",
    "    Ak = A_init.copy()\n",
    "    for _ in range(num_iter):\n",
    "        Q, R = sl.qr(Ak)\n",
    "        Ak = R @ Q\n",
    "        convergence.append(np.linalg.norm(Ak, ord = np.inf))\n",
    "    convergence = np.array(convergence)\n",
    "    return Ak, convergence"
   ]
  },
  {
   "cell_type": "markdown",
   "metadata": {
    "id": "UNrCBNRUOGI6",
    "pycharm": {
     "name": "#%% md\n"
    }
   },
   "source": [
    "#### Symmetric case (3 pts)\n",
    "- Create symmetric tridiagonal $11 \\times 11$ matrix with elements $-1, 2, -1$ on sub-, main- and upper diagonal respectively without using loops.\n",
    "- Run $400$ iterations of the QR algorithm for this matrix.\n",
    "- Plot the output matrix with function ```plt.spy(Ak, precision=1e-7)```.\n",
    "- Plot convergence of QR-algorithm."
   ]
  },
  {
   "cell_type": "code",
   "execution_count": 42,
   "metadata": {
    "id": "NuKwQGXbOGI6",
    "pycharm": {
     "name": "#%%\n"
    }
   },
   "outputs": [],
   "source": [
    "# Your solution is here"
   ]
  },
  {
   "cell_type": "code",
   "execution_count": 43,
   "metadata": {
    "pycharm": {
     "name": "#%%\n"
    }
   },
   "outputs": [
    {
     "name": "stdout",
     "output_type": "stream",
     "text": [
      "[[ 2. -1.  0.  0.  0.  0.  0.  0.  0.  0.  0.]\n",
      " [-1.  2. -1.  0.  0.  0.  0.  0.  0.  0.  0.]\n",
      " [ 0. -1.  2. -1.  0.  0.  0.  0.  0.  0.  0.]\n",
      " [ 0.  0. -1.  2. -1.  0.  0.  0.  0.  0.  0.]\n",
      " [ 0.  0.  0. -1.  2. -1.  0.  0.  0.  0.  0.]\n",
      " [ 0.  0.  0.  0. -1.  2. -1.  0.  0.  0.  0.]\n",
      " [ 0.  0.  0.  0.  0. -1.  2. -1.  0.  0.  0.]\n",
      " [ 0.  0.  0.  0.  0.  0. -1.  2. -1.  0.  0.]\n",
      " [ 0.  0.  0.  0.  0.  0.  0. -1.  2. -1.  0.]\n",
      " [ 0.  0.  0.  0.  0.  0.  0.  0. -1.  2. -1.]\n",
      " [ 0.  0.  0.  0.  0.  0.  0.  0.  0. -1.  2.]]\n"
     ]
    }
   ],
   "source": [
    "A = np.zeros((11, 11))\n",
    "A += np.diag([-1] * 10, -1) + np.diag([2] * 11, 0) + np.diag([-1] * 10, 1)\n",
    "print(A)"
   ]
  },
  {
   "cell_type": "code",
   "execution_count": 44,
   "metadata": {},
   "outputs": [
    {
     "name": "stdout",
     "output_type": "stream",
     "text": [
      "[[ 3.93 -0.    0.    0.    0.   -0.   -0.   -0.   -0.    0.   -0.  ]\n",
      " [-0.    3.73 -0.    0.    0.    0.   -0.   -0.   -0.   -0.    0.  ]\n",
      " [ 0.   -0.    3.41 -0.   -0.   -0.    0.    0.   -0.   -0.   -0.  ]\n",
      " [ 0.    0.   -0.    3.   -0.   -0.   -0.    0.    0.    0.   -0.  ]\n",
      " [ 0.    0.    0.   -0.    2.52 -0.   -0.   -0.   -0.    0.    0.  ]\n",
      " [ 0.    0.    0.    0.   -0.    2.   -0.    0.   -0.    0.    0.  ]\n",
      " [ 0.    0.    0.    0.    0.   -0.    1.48 -0.    0.   -0.    0.  ]\n",
      " [ 0.    0.    0.    0.    0.    0.   -0.    1.   -0.    0.   -0.  ]\n",
      " [ 0.    0.    0.    0.    0.    0.    0.   -0.    0.59  0.    0.  ]\n",
      " [ 0.    0.    0.    0.    0.    0.    0.    0.   -0.    0.27 -0.  ]\n",
      " [ 0.    0.    0.    0.    0.    0.    0.    0.    0.   -0.    0.07]]\n"
     ]
    }
   ],
   "source": [
    "Ak, convergence = qr_algorithm(A, 400)\n",
    "print(np.round(Ak, 2))"
   ]
  },
  {
   "cell_type": "code",
   "execution_count": 45,
   "metadata": {},
   "outputs": [
    {
     "data": {
      "text/plain": [
       "<matplotlib.image.AxesImage at 0x192820b5a90>"
      ]
     },
     "execution_count": 45,
     "metadata": {},
     "output_type": "execute_result"
    },
    {
     "data": {
      "image/png": "[encoded data removed]",
      "text/plain": [
       "<Figure size 432x288 with 1 Axes>"
      ]
     },
     "metadata": {
      "needs_background": "light"
     },
     "output_type": "display_data"
    }
   ],
   "source": [
    "plt.spy(Ak, precision=1e-7)"
   ]
  },
  {
   "cell_type": "code",
   "execution_count": 46,
   "metadata": {
    "pycharm": {
     "name": "#%%\n"
    }
   },
   "outputs": [
    {
     "name": "stderr",
     "output_type": "stream",
     "text": [
      "No handles with labels found to put in legend.\n"
     ]
    },
    {
     "data": {
      "image/png": "[encoded data removed]",
      "text/plain": [
       "<Figure size 648x648 with 1 Axes>"
      ]
     },
     "metadata": {
      "needs_background": "light"
     },
     "output_type": "display_data"
    }
   ],
   "source": [
    "plt.figure(figsize=(9, 9))\n",
    "plt.plot(convergence, linewidth=4)\n",
    "plt.legend(fontsize=18)\n",
    "plt.xlabel('number of itrations', fontsize=18)\n",
    "plt.ylabel('convergence', fontsize=18)\n",
    "plt.xticks(fontsize=18)\n",
    "plt.yticks(fontsize=18)\n",
    "plt.grid()\n",
    "plt.title('QR algorithm')\n",
    "plt.show()"
   ]
  },
  {
   "cell_type": "markdown",
   "metadata": {
    "id": "-lomV2K-OGI8",
    "pycharm": {
     "name": "#%% md\n"
    }
   },
   "source": [
    "#### Nonsymmetric case (4 pts)\n",
    "\n",
    "- Create nonsymmetric tridiagonal $11 \\times 11$ matrix with elements $5, 3, -2$ on sub-, main- and upper diagonal respectively without using loops.\n",
    "- Run $250$ iterations of the QR algorithm for this matrix.\n",
    "- Plot the result matrix with function ```plt.spy(Ak, precision=1e-7)```. Is this matrix lower triangular? How does this correspond to the claim about convergence of the QR algorithm?"
   ]
  },
  {
   "cell_type": "code",
   "execution_count": 47,
   "metadata": {
    "id": "C2lGBHjaOGI9",
    "pycharm": {
     "name": "#%%\n"
    }
   },
   "outputs": [],
   "source": [
    "# Your solution is here"
   ]
  },
  {
   "cell_type": "code",
   "execution_count": 48,
   "metadata": {
    "pycharm": {
     "name": "#%%\n"
    }
   },
   "outputs": [
    {
     "name": "stdout",
     "output_type": "stream",
     "text": [
      "[[ 3. -2.  0.  0.  0.  0.  0.  0.  0.  0.  0.]\n",
      " [ 5.  3. -2.  0.  0.  0.  0.  0.  0.  0.  0.]\n",
      " [ 0.  5.  3. -2.  0.  0.  0.  0.  0.  0.  0.]\n",
      " [ 0.  0.  5.  3. -2.  0.  0.  0.  0.  0.  0.]\n",
      " [ 0.  0.  0.  5.  3. -2.  0.  0.  0.  0.  0.]\n",
      " [ 0.  0.  0.  0.  5.  3. -2.  0.  0.  0.  0.]\n",
      " [ 0.  0.  0.  0.  0.  5.  3. -2.  0.  0.  0.]\n",
      " [ 0.  0.  0.  0.  0.  0.  5.  3. -2.  0.  0.]\n",
      " [ 0.  0.  0.  0.  0.  0.  0.  5.  3. -2.  0.]\n",
      " [ 0.  0.  0.  0.  0.  0.  0.  0.  5.  3. -2.]\n",
      " [ 0.  0.  0.  0.  0.  0.  0.  0.  0.  5.  3.]]\n"
     ]
    }
   ],
   "source": [
    "A = np.zeros((11, 11))\n",
    "A += np.diag([5] * 10, -1) + np.diag([3] * 11, 0) + np.diag([-2] * 10, 1)\n",
    "print(A)"
   ]
  },
  {
   "cell_type": "code",
   "execution_count": 49,
   "metadata": {},
   "outputs": [
    {
     "name": "stdout",
     "output_type": "stream",
     "text": [
      "[[ 3.26 -6.   -1.9   0.15 -1.04 -0.21 -0.2  -0.63 -0.19 -0.08  0.04]\n",
      " [ 6.23  2.74  0.79 -1.21  0.68 -0.2   0.26  0.34  0.12  0.05 -0.02]\n",
      " [ 0.    0.    2.72 -5.8  -1.13  1.2  -0.16 -0.31 -0.22  0.04 -0.04]\n",
      " [ 0.    0.    5.18  3.28 -2.75 -0.63 -0.36 -0.84 -0.43 -0.23 -0.1 ]\n",
      " [ 0.    0.    0.    0.    3.07 -5.2  -1.29  0.78  0.13 -0.27 -0.03]\n",
      " [ 0.    0.    0.    0.    3.85  2.93 -1.56 -3.39 -0.24 -0.12  0.48]\n",
      " [ 0.    0.    0.    0.    0.    0.    3.81 -2.59  3.19  1.94  0.83]\n",
      " [ 0.    0.    0.    0.    0.    0.    4.11  2.19 -1.96  0.51 -0.36]\n",
      " [ 0.    0.    0.    0.    0.    0.    0.    0.    4.15 -3.4  -1.6 ]\n",
      " [ 0.    0.    0.    0.    0.    0.    0.    0.    1.18  1.85  3.75]\n",
      " [ 0.    0.    0.    0.    0.    0.    0.    0.    0.    0.    3.  ]]\n"
     ]
    }
   ],
   "source": [
    "Ak, convergence = qr_algorithm(A, 250)\n",
    "print(np.round(Ak, 2))"
   ]
  },
  {
   "cell_type": "code",
   "execution_count": 50,
   "metadata": {},
   "outputs": [
    {
     "data": {
      "text/plain": [
       "<matplotlib.image.AxesImage at 0x1928226be10>"
      ]
     },
     "execution_count": 50,
     "metadata": {},
     "output_type": "execute_result"
    },
    {
     "data": {
      "image/png": "[encoded data removed]",
      "text/plain": [
       "<Figure size 432x288 with 1 Axes>"
      ]
     },
     "metadata": {
      "needs_background": "light"
     },
     "output_type": "display_data"
    }
   ],
   "source": [
    "plt.spy(Ak, precision=1e-7)"
   ]
  },
  {
   "cell_type": "code",
   "execution_count": 51,
   "metadata": {
    "pycharm": {
     "name": "#%%\n"
    }
   },
   "outputs": [
    {
     "name": "stderr",
     "output_type": "stream",
     "text": [
      "No handles with labels found to put in legend.\n"
     ]
    },
    {
     "data": {
      "image/png": "[encoded data removed]",
      "text/plain": [
       "<Figure size 648x648 with 1 Axes>"
      ]
     },
     "metadata": {
      "needs_background": "light"
     },
     "output_type": "display_data"
    }
   ],
   "source": [
    "plt.figure(figsize=(9, 9))\n",
    "plt.plot(convergence, linewidth=4)\n",
    "plt.legend(fontsize=18)\n",
    "plt.xlabel('number of itrations', fontsize=18)\n",
    "plt.ylabel('convergence', fontsize=18)\n",
    "plt.xticks(fontsize=18)\n",
    "plt.yticks(fontsize=18)\n",
    "plt.grid()\n",
    "plt.title('QR algorithm')\n",
    "plt.show()"
   ]
  },
  {
   "cell_type": "markdown",
   "metadata": {
    "pycharm": {
     "name": "#%% md\n"
    }
   },
   "source": [
    "It is almost upper triangular matrix. $A_k$ should be in diagonal form for qr algorithm convergence"
   ]
  },
  {
   "cell_type": "markdown",
   "metadata": {
    "id": "c_8OYe7wOGI-",
    "pycharm": {
     "name": "#%% md\n"
    }
   },
   "source": [
    "## Problem 3. (Pseudo-Schur decomposition) 15 pts\n",
    "Let's redefine scalar product $ \\forall x, y \\in \\mathbb{C}^n$ in a following way:\n",
    "\n",
    "$$ [x,y]_J = y^{*}Jx, \\text{s.t.}\\ J = \\text{diag}(j_{11}, j_{22}, \\dots, j_{nn})\\ \\text{and}\\ j_{ii} = \\pm1\\ \\forall i \\in [1,n].$$\n",
    "\n",
    "Denote rows of matrix $V \\in \\mathbb{C}^{n \\times n}$ as $v_1, v_2, \\dots, v_n$. Then $V$ is called $\\textbf{J-orthonormal}$ iff \n",
    "\n",
    "$$[v_i, v_k]_J = \\pm \\delta_{ik}.$$\n",
    "\n",
    "We will call matrix $T \\in \\mathbb{C}^{n \\times n}$ $\\textbf{almost triangular}$ iff $T$ is upper triangular with diagonal blocks of order $1$ or $2$.\n",
    "\n",
    "Matrix $A \\in \\mathbb{C}^{n \\times n}$ is said to be $\\textbf{J-decomposable}$ if exist J-orthonormal matrix $V$ and upper triangular matrix $T$ such that \n",
    "\n",
    "\n",
    "$$A = V T V^{-1}.$$\n",
    "\n",
    "Matrix $A \\in \\mathbb{C}^{n \\times n}$ is said to have $\\textbf{pseudoschur J-decomposition}$ if exist J-orthonormal matrix $V$ and almost triangular matrix $T$ such that\n",
    "\n",
    "\n",
    "$$A = V T V^{-1}.$$\n",
    "\n",
    "This problem is to get familiar with the fact that two abovementioned decompositions exist not for any square matrix with complex entries.\n",
    "\n",
    "\n",
    "\n",
    "\n",
    "- (2 pts) $A$ has pseudoschur J-decomposition $A = V T V^{-1}, \\ \\text{where}\\ V = \\begin{bmatrix} v_1 & v_2 &  \\ldots & v_n \\end{bmatrix}, \\ T = \\begin{bmatrix} T_{ij} \\end{bmatrix}$ and $v_1$ is $\\textbf{not}$ an eigenvector of $A$. Show that $T_{21} \\ne 0$. \n",
    "\n",
    "\n",
    "\n",
    "- (5 pts) Given $J = \\text{diag}(1, -1)$ and $A = \\begin{bmatrix}\n",
    "3   \\ -1\\\\\n",
    "-1\\   \\ 3\\\\\n",
    "\\end{bmatrix}$, prove that $A$ is not J-decomposable.\n",
    "\n",
    "\n",
    "- (8 pts) Given that $A \\in \\mathbb{C}^{n \\times n}$ is diagonalizable, show that it has pseudoschur J-decomposition for any $J$ of form $J=\\text{diag}(\\pm 1, \\dots, \\pm 1)$.\n",
    "Note that in order to solve that subproblem you should firstly prove the following fact:\n",
    "\n",
    "    Let $S \\in \\mathbb{C}^{m \\times n},\\ m \\ge n,\\ J = \\text{diag}(\\pm 1).$ If $A = S^{*}JS$ and $det(A) \\ne 0$, then exists QR decomposition of $S$ with respect to $J$: \n",
    "    $$S = P_1 QR P_2^{*} = P_1 Q \\begin{bmatrix} R_1 \\\\ 0 \\end{bmatrix} P_2^{*}, \\ Q^{*} J^{'}Q = J^{'}, \\ J^{'} = P_1^{*}JP_1,$$ where $P_1$ and $P_2$ are permutation matrices, $Q$ is called $J^{'}$- unitary and $R_1$ is almost triangular.\n"
   ]
  },
  {
   "cell_type": "code",
   "execution_count": 52,
   "metadata": {
    "id": "lAR4dXMOOGI_",
    "pycharm": {
     "name": "#%%\n"
    }
   },
   "outputs": [],
   "source": [
    "# Your solutuion is here"
   ]
  },
  {
   "cell_type": "markdown",
   "metadata": {
    "pycharm": {
     "name": "#%% md\n"
    }
   },
   "source": [
    "#### Show that $T_{21} \\ne 0$."
   ]
  },
  {
   "cell_type": "code",
   "metadata": {
    "pycharm": {
     "name": "#%%\n"
    }
   },
   "source": [
    "$\n",
    "A = VTV^{-1} \\\\\n",
    "AV = VT\n",
    "$\n",
    "\n",
    "$\n",
    "AV = \n",
    "\\begin{bmatrix} \n",
    "Av_1 & Av_2 & ... & Av_n \n",
    "\\end{bmatrix}\n",
    "$\n",
    "\n",
    "$\n",
    "vT = \n",
    "\\begin{bmatrix} \n",
    "v_1 & v_2 & ... & v_n \n",
    "\\end{bmatrix}\n",
    "\\begin{bmatrix} \n",
    "T_{11} & T_{12} & ... & T_{1n} \\\\\n",
    "T_{21} & T_{22} & ... & ... \\\\\n",
    "0 & T_{32} & ... & ... \\\\\n",
    "... & ... & ... & ... \\\\\n",
    "0 & 0 & ... & T_{nn} \\\\\n",
    "\\end{bmatrix}\n",
    "$\n",
    "=\n",
    "$\n",
    "\\begin{bmatrix} \n",
    "v_1 T_{11} + v_2 T_{21} + 0  & v_1 T_{12} + v_2 T_{22} + ... & ... \n",
    "\\end{bmatrix}\n",
    "$\n",
    "\n",
    "$\n",
    "Av_1 = v_1 T_{11} + v_2 T_{21}\n",
    "$\n",
    "\n",
    "if $T_{21} = 0 => Av_1 = v_1 T_{11} => v_1$ - eigenvector and $T_{11}$ - eigenvalue, but $v_1$ is not eigenvector of $A => T_{21} \\ne 0$ \n"
   ],
   "execution_count": null,
   "outputs": []
  },
  {
   "cell_type": "markdown",
   "metadata": {
    "pycharm": {
     "name": "#%% md\n"
    }
   },
   "source": [
    "#### prove that  𝐴  is not J-decomposable."
   ]
  },
  {
   "cell_type": "markdown",
   "metadata": {},
   "source": [
    "$J =\n",
    "\\begin{bmatrix}\n",
    "1 & 0 \\\\ \n",
    "0 & -1 \n",
    "\\end{bmatrix}\n",
    "$\n"
   ]
  },
  {
   "cell_type": "markdown",
   "metadata": {
    "id": "herV0xZ3OGJB"
   },
   "source": [
    "## Problem 4. (Skeleton decomposition) 28 pts\n",
    "\n",
    "The application that we are particularly interested in is\n",
    "the approximation of a given matrix by a low-rank matrix:\n",
    "\n",
    "$$ A \\approx UV^T, A \\in \\mathbb{R}^{m \\times n}, U \\in \\mathbb{R}^{m \\times r}, V \\in \\mathbb{R}^{n \\times r}.$$\n",
    "\n",
    "It is well known that the best (in any unitary invariant norm) low-rank approximation can be computed via singular value decomposition (SVD). As an alternative, we can consider skeleton decompostion of the form:\n",
    "\n",
    "$$A \\approx A_r = A(: , \\mathcal{J})A(\\mathcal{I} , \\mathcal{J})^{-1}A(\\mathcal{I} , :),$$\n",
    "where $\\mathcal{I,J}$ are some index sets of length $r$."
   ]
  },
  {
   "cell_type": "markdown",
   "metadata": {
    "id": "fK7v5oD4d6zR",
    "pycharm": {
     "name": "#%% md\n"
    }
   },
   "source": [
    "Below we consider the matrix $N \\times N$ derived from the following function discretization in the uniform grid in square $[0, 1] \\times [0, 1]$:\n",
    "$ f(x, y) = \\exp(-\\sqrt{x^2 + y^2})$.\n",
    "It means that $A = [a_{ij}]$, where $a_{ij} = f(x_i, x_j)$ and $x_i = i / (N-1)$, $x_j = j / (N-1)$, where $i, j = 0,\\ldots, N-1$.\n",
    "\n",
    "- (2 pts) compose this matrix for $N = 5000$ without loops (Hint: function ```np.meshgrid``` can help you)\n"
   ]
  },
  {
   "cell_type": "code",
   "execution_count": 53,
   "metadata": {
    "id": "W6OvG8PJdenP",
    "pycharm": {
     "name": "#%%\n"
    }
   },
   "outputs": [],
   "source": [
    "# Your solution is here"
   ]
  },
  {
   "cell_type": "code",
   "execution_count": 54,
   "metadata": {
    "pycharm": {
     "name": "#%%\n"
    }
   },
   "outputs": [
    {
     "name": "stdout",
     "output_type": "stream",
     "text": [
      "[[1.         0.99979998]\n",
      " [0.99979998 0.99971714]]\n"
     ]
    }
   ],
   "source": [
    "def f(x, y):\n",
    "    return np.exp(-np.sqrt(x**2 + y**2))\n",
    "\n",
    "N = 5000\n",
    "\n",
    "xx, yy = np.meshgrid(np.arange(N)/(N-1), np.arange(N)/(N-1))\n",
    "\n",
    "A = f(xx, yy)\n",
    "\n",
    "print(A[:2, :2])"
   ]
  },
  {
   "cell_type": "markdown",
   "metadata": {
    "id": "Rj_OMuY7gvH9",
    "pycharm": {
     "name": "#%% md\n"
    }
   },
   "source": [
    "- (3 pts) Compute Skeleton approximation with random selection of rows and columns indices for $r = 5$ (check that submatrix in the intersection of rows and columns is nonsingular). Average the relative error $\\frac{\\|A - A_r \\|_F}{\\|A\\|_F}$ over $M$ samples of column/row indices. Check that $M$ is sufficiently large to provide stable mean.\n",
    "\n",
    " Note: extracting submatrices should be done according to ```numpy```  e.g. ```A[index_set, :]``` to extract selected rows, ```A[:, index_set]``` to extract selected columns etc..\n"
   ]
  },
  {
   "cell_type": "code",
   "execution_count": 55,
   "metadata": {
    "id": "Qw4m6q0qjaSr",
    "pycharm": {
     "name": "#%%\n"
    }
   },
   "outputs": [],
   "source": [
    "# Your solution is here"
   ]
  },
  {
   "cell_type": "code",
   "execution_count": 56,
   "metadata": {
    "pycharm": {
     "name": "#%%\n"
    }
   },
   "outputs": [
    {
     "name": "stdout",
     "output_type": "stream",
     "text": [
      "0.16967791863429288\n"
     ]
    }
   ],
   "source": [
    "r = 5\n",
    "M = 1000\n",
    "er = 0\n",
    "count = 0\n",
    "for _ in range(M): \n",
    "    J = np.random.choice(N, r)\n",
    "    L = np.random.choice(N, r)\n",
    "\n",
    "    A1 = A[:, J]\n",
    "    A2 = A[L, :][:, J]\n",
    "    if np.linalg.det(A2) > 0:\n",
    "        A2 = np.linalg.inv(A2)\n",
    "    else:\n",
    "        continue\n",
    "    A3 = A[L, :]\n",
    "    \n",
    "    As = A1 @ A2 @ A3\n",
    "    count += 1\n",
    "    er += (np.linalg.norm(A - As) / np.linalg.norm(A))\n",
    "\n",
    "print(er / count)  \n",
    "\n"
   ]
  },
  {
   "cell_type": "markdown",
   "metadata": {
    "id": "lwP2qdOCkTBo",
    "pycharm": {
     "name": "#%% md\n"
    }
   },
   "source": [
    "As you should know from the lecture, if $A$ is of rank $r$ and $\\hat{A} = A(\\mathcal{I} , \\mathcal{J})$ is nonsingular, then the exact equality holds. In the approximate case, however, the quality of the approximation depends on the volume of the submatrix $\\hat{A}$: \n",
    "\n",
    "**Theorem**\n",
    "\n",
    "*If $\\hat{A} = A_{max}$ has maximal in modulus determinant among all $r \\times r$ submatrices of $A$, the following error etimate holds:*\n",
    "\n",
    "$$ \\|A - A_r\\|_1 \\leq (r+1)\\sigma_{r+1}.$$\n",
    "\n",
    "\n",
    "And the question is how to choose a good submatrix of nearly maximal volume in practice.\n",
    "\n",
    "**Definition**: *We call $r \\times r$ submatrix $A_{dom}$ of rectangular $n \\times r$ matrix $A$ of\n",
    "full rank dominant, if all the entries of $AA_{dom}^{-1}$ are not greater than $1$ in\n",
    "modulus.*\n",
    "\n",
    "The crucial theoretical result behind the scene is that the volume of any dominant submatrix $A_{dom}$ can not be very much smaller than the maximum volume submatrix $A_{max}$ (without proof).\n",
    "\n",
    "We provide the following algorithm for constructing dominant submatrix of a tall matrix.\n",
    "\n",
    "**Algorithm 1**: \n",
    "    \n",
    "Given matrix $A$ of size $n \\times r$ finds dominant submatrix of size $r \\times r$\n",
    "\n",
    "__step 0.__ Start with arbitrary nonsingular $r \\times r$ submatrix $A_{dom}$. Reorder rows in $A$ so that $A_{dom}$ occupies first $r$ rows in $A$.\n",
    "\n",
    "__step 1.__ Compute $B = AA_{dom}^{-1}$ and find its maximum in module  entry $b_{ij}$.\n",
    "\n",
    "__step 2.__ **If $|b_{ij}| > 1 + \\delta$, then**:\n",
    "\n",
    "Swap rows $i$ and $j$ in $B$ (accrodignly in A). By swapping the rows we have increased the volume of the upper submatrix in $B$, as well as in $A$ (why?). Let $A_{dom}$ be the new upper submatrix of $A$ and go to __step 1__.\n",
    "\n",
    "**elseif $|b_{ij}| < 1 + \\delta$**:\n",
    "\n",
    "return $A_{dom}$.\n",
    "\n",
    "Note: $\\delta = 10^{-2}$ seems to be a good practical choice."
   ]
  },
  {
   "cell_type": "markdown",
   "metadata": {
    "id": "v68vVZrJnryX",
    "pycharm": {
     "name": "#%% md\n"
    }
   },
   "source": [
    "- (10 pts) Implement algorithm 1 according to the following signature, where the function returns ```row_indices``` array which can be used as ```A[row_indices, :]``` to extract selected submatrix.\n",
    "\n",
    "Note that matrix inverse $A_{dom}^{-1}$ in step 3 has to be updated efficiently using [Shermann-Morison formula](https://en.wikipedia.org/wiki/Sherman%E2%80%93Morrison_formula) (inverse of rank-1 update)."
   ]
  },
  {
   "cell_type": "code",
   "execution_count": 57,
   "metadata": {
    "id": "YTSbyzAKkUEP",
    "pycharm": {
     "name": "#%%\n"
    }
   },
   "outputs": [],
   "source": [
    "def dominant_submatrix_search(A):\n",
    "    # Your code is here\n",
    "    A_ = A.copy()\n",
    "    n, r = A_.shape\n",
    "    \n",
    "    eps = 0.01\n",
    "    \n",
    "    #step 0\n",
    "    row_indices = np.random.choice(n, r, replace=False)\n",
    "    Adom = A_[row_indices, :]\n",
    "    \n",
    "    rest_indeces = []\n",
    "    for i in range(n):\n",
    "        if i not in row_indices:\n",
    "            rest_indeces.append(i)\n",
    "    rest_indeces = np.array(rest_indeces)\n",
    "    \n",
    "    all_indeces = np.concatenate((row_indices, rest_indeces), axis=None)\n",
    "    \n",
    "    A_[r: ,:] = A_[rest_indeces, :]        \n",
    "    A_[:r, :] = Adom\n",
    "    \n",
    "    while(True):\n",
    "        #step 1\n",
    "        B = A_ @ np.linalg.inv(Adom)\n",
    "\n",
    "        b = np.max(np.abs(B))\n",
    "        i_, j_ = np.where(np.abs(B) == b)\n",
    "        \n",
    "\n",
    "        #step 2\n",
    "        if b > (1 + eps):\n",
    "            B[i_, :], B[j_, :] = B[j_, :], B[i_, :]\n",
    "            A_[i_, :], A_[j_, :] = A_[j_, :], A_[i_, :]\n",
    "            all_indeces[i_], all_indeces[j_] = all_indeces[j_], all_indeces[i_]\n",
    "\n",
    "            Adom = A_[:r, :]\n",
    "        else:\n",
    "            break\n",
    "    print()        \n",
    "    row_indices = all_indeces[:r]\n",
    "    return row_indices"
   ]
  },
  {
   "cell_type": "code",
   "execution_count": 58,
   "metadata": {
    "pycharm": {
     "name": "#%%\n"
    }
   },
   "outputs": [
    {
     "name": "stdout",
     "output_type": "stream",
     "text": [
      "\n",
      "[7 1 6]\n"
     ]
    }
   ],
   "source": [
    "print(dominant_submatrix_search(np.random.rand(10, 3)))"
   ]
  },
  {
   "cell_type": "code",
   "execution_count": 59,
   "metadata": {
    "id": "0DGuKmqLoUAi"
   },
   "outputs": [
    {
     "name": "stdout",
     "output_type": "stream",
     "text": [
      "\n"
     ]
    }
   ],
   "source": [
    "# check the convergence of your implementation on random data\n",
    "A = np.random.rand(5000, 10)\n",
    "row_indices = dominant_submatrix_search(A)"
   ]
  },
  {
   "cell_type": "code",
   "execution_count": 60,
   "metadata": {},
   "outputs": [
    {
     "data": {
      "text/plain": [
       "(10, 10)"
      ]
     },
     "execution_count": 60,
     "metadata": {},
     "output_type": "execute_result"
    }
   ],
   "source": [
    "A[row_indices, :].shape"
   ]
  },
  {
   "cell_type": "code",
   "execution_count": 61,
   "metadata": {
    "pycharm": {
     "name": "#%%\n"
    }
   },
   "outputs": [],
   "source": [
    "A1 = A[row_indices, :]"
   ]
  },
  {
   "cell_type": "markdown",
   "metadata": {
    "id": "zVIzSkvaqwDm",
    "pycharm": {
     "name": "#%% md\n"
    }
   },
   "source": [
    "- (10 pts) Propose the method to construct Skeleton approximation using Algorithm 1. The signature of the function is provided below.  Compare your algorithm with previously considered random selection on the matrix $A$.\n",
    "\n",
    "Hint: \n",
    "\n",
    "1) start with random selection of columns \n",
    "\n",
    "2) if you transpose the matrix for which you find rows, then Algorithm 1 will give you update for columns in the initial matrix"
   ]
  },
  {
   "cell_type": "code",
   "execution_count": null,
   "outputs": [],
   "source": [
    "def skeleton(A,  r):\n",
    "    # Your code is here\n",
    "    \n",
    "    return row_indices, column_indices"
   ],
   "metadata": {
    "collapsed": false,
    "pycharm": {
     "name": "#%%\n"
    }
   }
  },
  {
   "cell_type": "code",
   "execution_count": null,
   "outputs": [],
   "source": [],
   "metadata": {
    "collapsed": false,
    "pycharm": {
     "name": "#%%\n"
    }
   }
  },
  {
   "cell_type": "code",
   "execution_count": null,
   "outputs": [],
   "source": [],
   "metadata": {
    "collapsed": false,
    "pycharm": {
     "name": "#%%\n"
    }
   }
  },
  {
   "cell_type": "code",
   "execution_count": null,
   "outputs": [],
   "source": [],
   "metadata": {
    "collapsed": false,
    "pycharm": {
     "name": "#%%\n"
    }
   }
  },
  {
   "cell_type": "code",
   "execution_count": null,
   "outputs": [],
   "source": [],
   "metadata": {
    "collapsed": false,
    "pycharm": {
     "name": "#%%\n"
    }
   }
  },
  {
   "cell_type": "code",
   "execution_count": null,
   "outputs": [],
   "source": [],
   "metadata": {
    "collapsed": false,
    "pycharm": {
     "name": "#%%\n"
    }
   }
  },
  {
   "cell_type": "code",
   "execution_count": null,
   "outputs": [],
   "source": [],
   "metadata": {
    "collapsed": false,
    "pycharm": {
     "name": "#%%\n"
    }
   }
  },
  {
   "cell_type": "code",
   "execution_count": 62,
   "metadata": {
    "id": "AbJRXIJNrbNz"
   },
   "outputs": [],
   "source": []
  },
  {
   "cell_type": "code",
   "execution_count": null,
   "metadata": {},
   "outputs": [],
   "source": []
  },
  {
   "cell_type": "code",
   "execution_count": null,
   "metadata": {},
   "outputs": [],
   "source": []
  },
  {
   "cell_type": "code",
   "execution_count": null,
   "metadata": {},
   "outputs": [],
   "source": []
  },
  {
   "cell_type": "code",
   "execution_count": null,
   "metadata": {},
   "outputs": [],
   "source": []
  },
  {
   "cell_type": "code",
   "execution_count": null,
   "metadata": {},
   "outputs": [],
   "source": []
  },
  {
   "cell_type": "code",
   "execution_count": null,
   "metadata": {},
   "outputs": [],
   "source": []
  }
 ],
 "metadata": {
  "colab": {
   "collapsed_sections": [],
   "name": "PS2.ipynb",
   "provenance": []
  },
  "kernelspec": {
   "display_name": "Python 3",
   "language": "python",
   "name": "python3"
  },
  "language_info": {
   "codemirror_mode": {
    "name": "ipython",
    "version": 3
   },
   "file_extension": ".py",
   "mimetype": "text/x-python",
   "name": "python",
   "nbconvert_exporter": "python",
   "pygments_lexer": "ipython3",
   "version": "3.6.7"
  }
 },
 "nbformat": 4,
 "nbformat_minor": 1
}